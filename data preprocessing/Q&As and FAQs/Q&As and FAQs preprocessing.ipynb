{
 "cells": [
  {
   "cell_type": "code",
   "id": "initial_id",
   "metadata": {
    "collapsed": true,
    "ExecuteTime": {
     "end_time": "2025-05-28T10:20:00.489485Z",
     "start_time": "2025-05-28T10:19:59.849650Z"
    }
   },
   "source": "import pandas as pd",
   "outputs": [],
   "execution_count": 1
  },
  {
   "metadata": {
    "ExecuteTime": {
     "end_time": "2025-05-28T10:20:31.107546Z",
     "start_time": "2025-05-28T10:20:31.074607Z"
    }
   },
   "cell_type": "code",
   "source": "df = pd.read_csv(r'C:\\Users\\LENOVO\\Desktop\\Lectures 5\\Internship\\Works\\Task 2.1\\Health-insureance\\data\\Q&As and FAQs\\health_insurance_real_world_clean.csv')",
   "id": "4dd6d0b7ac9b0177",
   "outputs": [],
   "execution_count": 3
  },
  {
   "metadata": {
    "ExecuteTime": {
     "end_time": "2025-05-28T10:20:32.623760Z",
     "start_time": "2025-05-28T10:20:32.605255Z"
    }
   },
   "cell_type": "code",
   "source": "df",
   "id": "4f88974eb261e362",
   "outputs": [
    {
     "data": {
      "text/plain": [
       "                                               question  \\\n",
       "0                      Why do we need health insurance?   \n",
       "1                        How do I get health insurance?   \n",
       "2                             What is health insurance?   \n",
       "3                    Why should I buy health insurance?   \n",
       "4     How will health insurance pay for my emergency...   \n",
       "...                                                 ...   \n",
       "1209          why do i need critical illness insurance?   \n",
       "1210                       is life insurance essential?   \n",
       "1211               is disability insurance a good idea?   \n",
       "1212           when can you enroll in health insurance?   \n",
       "1213              who can be covered by life insurance?   \n",
       "\n",
       "                                                 answer  \n",
       "0     As medical care advances and treatments increa...  \n",
       "1     Most people get health insurance through their...  \n",
       "2     Health insurance is an insurance product that ...  \n",
       "3     You should purchase health insurance so that y...  \n",
       "4     Your health insurance will either pay your hos...  \n",
       "...                                                 ...  \n",
       "1209  an insurance product is regulated by the depar...  \n",
       "1210  look at the people you know. how many people d...  \n",
       "1211  how quickly life insurance is paid out depends...  \n",
       "1212  group health insurance is health insurance pol...  \n",
       "1213  deferred annuities are annuities that do not p...  \n",
       "\n",
       "[1214 rows x 2 columns]"
      ],
      "text/html": [
       "<div>\n",
       "<style scoped>\n",
       "    .dataframe tbody tr th:only-of-type {\n",
       "        vertical-align: middle;\n",
       "    }\n",
       "\n",
       "    .dataframe tbody tr th {\n",
       "        vertical-align: top;\n",
       "    }\n",
       "\n",
       "    .dataframe thead th {\n",
       "        text-align: right;\n",
       "    }\n",
       "</style>\n",
       "<table border=\"1\" class=\"dataframe\">\n",
       "  <thead>\n",
       "    <tr style=\"text-align: right;\">\n",
       "      <th></th>\n",
       "      <th>question</th>\n",
       "      <th>answer</th>\n",
       "    </tr>\n",
       "  </thead>\n",
       "  <tbody>\n",
       "    <tr>\n",
       "      <th>0</th>\n",
       "      <td>Why do we need health insurance?</td>\n",
       "      <td>As medical care advances and treatments increa...</td>\n",
       "    </tr>\n",
       "    <tr>\n",
       "      <th>1</th>\n",
       "      <td>How do I get health insurance?</td>\n",
       "      <td>Most people get health insurance through their...</td>\n",
       "    </tr>\n",
       "    <tr>\n",
       "      <th>2</th>\n",
       "      <td>What is health insurance?</td>\n",
       "      <td>Health insurance is an insurance product that ...</td>\n",
       "    </tr>\n",
       "    <tr>\n",
       "      <th>3</th>\n",
       "      <td>Why should I buy health insurance?</td>\n",
       "      <td>You should purchase health insurance so that y...</td>\n",
       "    </tr>\n",
       "    <tr>\n",
       "      <th>4</th>\n",
       "      <td>How will health insurance pay for my emergency...</td>\n",
       "      <td>Your health insurance will either pay your hos...</td>\n",
       "    </tr>\n",
       "    <tr>\n",
       "      <th>...</th>\n",
       "      <td>...</td>\n",
       "      <td>...</td>\n",
       "    </tr>\n",
       "    <tr>\n",
       "      <th>1209</th>\n",
       "      <td>why do i need critical illness insurance?</td>\n",
       "      <td>an insurance product is regulated by the depar...</td>\n",
       "    </tr>\n",
       "    <tr>\n",
       "      <th>1210</th>\n",
       "      <td>is life insurance essential?</td>\n",
       "      <td>look at the people you know. how many people d...</td>\n",
       "    </tr>\n",
       "    <tr>\n",
       "      <th>1211</th>\n",
       "      <td>is disability insurance a good idea?</td>\n",
       "      <td>how quickly life insurance is paid out depends...</td>\n",
       "    </tr>\n",
       "    <tr>\n",
       "      <th>1212</th>\n",
       "      <td>when can you enroll in health insurance?</td>\n",
       "      <td>group health insurance is health insurance pol...</td>\n",
       "    </tr>\n",
       "    <tr>\n",
       "      <th>1213</th>\n",
       "      <td>who can be covered by life insurance?</td>\n",
       "      <td>deferred annuities are annuities that do not p...</td>\n",
       "    </tr>\n",
       "  </tbody>\n",
       "</table>\n",
       "<p>1214 rows × 2 columns</p>\n",
       "</div>"
      ]
     },
     "execution_count": 4,
     "metadata": {},
     "output_type": "execute_result"
    }
   ],
   "execution_count": 4
  },
  {
   "metadata": {},
   "cell_type": "code",
   "outputs": [],
   "execution_count": null,
   "source": "",
   "id": "d130bb745205b6c3"
  }
 ],
 "metadata": {
  "kernelspec": {
   "display_name": "Python 3",
   "language": "python",
   "name": "python3"
  },
  "language_info": {
   "codemirror_mode": {
    "name": "ipython",
    "version": 2
   },
   "file_extension": ".py",
   "mimetype": "text/x-python",
   "name": "python",
   "nbconvert_exporter": "python",
   "pygments_lexer": "ipython2",
   "version": "2.7.6"
  }
 },
 "nbformat": 4,
 "nbformat_minor": 5
}
