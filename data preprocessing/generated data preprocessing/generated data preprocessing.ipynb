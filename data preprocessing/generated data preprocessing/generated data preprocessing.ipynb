{
 "cells": [
  {
   "cell_type": "code",
   "id": "initial_id",
   "metadata": {
    "collapsed": true,
    "ExecuteTime": {
     "end_time": "2025-05-28T11:14:51.874050Z",
     "start_time": "2025-05-28T11:14:51.866451Z"
    }
   },
   "source": [
    "import pandas as pd\n",
    "import re"
   ],
   "outputs": [],
   "execution_count": 27
  },
  {
   "metadata": {
    "ExecuteTime": {
     "end_time": "2025-05-28T10:14:36.091933Z",
     "start_time": "2025-05-28T10:14:36.018887Z"
    }
   },
   "cell_type": "code",
   "source": [
    "df_1 = pd.read_csv(r'C:\\Users\\LENOVO\\Desktop\\Lectures 5\\Internship\\Works\\Task 2.1\\Health-insureance\\data\\synthetic data generation\\general_synthetic_health_insurance_qa_1.csv')\n",
    "df_2 = pd.read_csv(r'C:\\Users\\LENOVO\\Desktop\\Lectures 5\\Internship\\Works\\Task 2.1\\Health-insureance\\data\\synthetic data generation\\general_synthetic_health_insurance_qa_2.csv')"
   ],
   "id": "41039551ccfaa0cf",
   "outputs": [],
   "execution_count": 8
  },
  {
   "metadata": {
    "ExecuteTime": {
     "end_time": "2025-05-28T10:14:36.206919Z",
     "start_time": "2025-05-28T10:14:36.196911Z"
    }
   },
   "cell_type": "code",
   "source": "df_1",
   "id": "220ef9f6ed9fcf4a",
   "outputs": [
    {
     "data": {
      "text/plain": [
       "                                              question  \\\n",
       "0    What is the difference between an in-network a...   \n",
       "1    What is a deductible and how does it work in m...   \n",
       "2    What should I consider when choosing a health ...   \n",
       "3    Are pre-existing conditions covered under heal...   \n",
       "4    What is the importance of understanding your h...   \n",
       "..                                                 ...   \n",
       "295  What should I consider when choosing a health ...   \n",
       "296  What factors should I consider when choosing a...   \n",
       "297  What should I consider when choosing a health ...   \n",
       "298  What is the difference between in-network and ...   \n",
       "299  What factors should I consider when choosing a...   \n",
       "\n",
       "                                                answer  \n",
       "0    In-network providers are healthcare profession...  \n",
       "1    A deductible is the amount you pay out-of-pock...  \n",
       "2    When choosing a health insurance plan, conside...  \n",
       "3    Yes, many health insurance plans provide cover...  \n",
       "4    Understanding your health insurance policy's n...  \n",
       "..                                                 ...  \n",
       "295  When selecting a health insurance plan for you...  \n",
       "296  When selecting a health insurance plan, you sh...  \n",
       "297  When selecting a health insurance plan for you...  \n",
       "298  In-network providers have a pre-established ag...  \n",
       "299  When selecting a health insurance plan, you sh...  \n",
       "\n",
       "[300 rows x 2 columns]"
      ],
      "text/html": [
       "<div>\n",
       "<style scoped>\n",
       "    .dataframe tbody tr th:only-of-type {\n",
       "        vertical-align: middle;\n",
       "    }\n",
       "\n",
       "    .dataframe tbody tr th {\n",
       "        vertical-align: top;\n",
       "    }\n",
       "\n",
       "    .dataframe thead th {\n",
       "        text-align: right;\n",
       "    }\n",
       "</style>\n",
       "<table border=\"1\" class=\"dataframe\">\n",
       "  <thead>\n",
       "    <tr style=\"text-align: right;\">\n",
       "      <th></th>\n",
       "      <th>question</th>\n",
       "      <th>answer</th>\n",
       "    </tr>\n",
       "  </thead>\n",
       "  <tbody>\n",
       "    <tr>\n",
       "      <th>0</th>\n",
       "      <td>What is the difference between an in-network a...</td>\n",
       "      <td>In-network providers are healthcare profession...</td>\n",
       "    </tr>\n",
       "    <tr>\n",
       "      <th>1</th>\n",
       "      <td>What is a deductible and how does it work in m...</td>\n",
       "      <td>A deductible is the amount you pay out-of-pock...</td>\n",
       "    </tr>\n",
       "    <tr>\n",
       "      <th>2</th>\n",
       "      <td>What should I consider when choosing a health ...</td>\n",
       "      <td>When choosing a health insurance plan, conside...</td>\n",
       "    </tr>\n",
       "    <tr>\n",
       "      <th>3</th>\n",
       "      <td>Are pre-existing conditions covered under heal...</td>\n",
       "      <td>Yes, many health insurance plans provide cover...</td>\n",
       "    </tr>\n",
       "    <tr>\n",
       "      <th>4</th>\n",
       "      <td>What is the importance of understanding your h...</td>\n",
       "      <td>Understanding your health insurance policy's n...</td>\n",
       "    </tr>\n",
       "    <tr>\n",
       "      <th>...</th>\n",
       "      <td>...</td>\n",
       "      <td>...</td>\n",
       "    </tr>\n",
       "    <tr>\n",
       "      <th>295</th>\n",
       "      <td>What should I consider when choosing a health ...</td>\n",
       "      <td>When selecting a health insurance plan for you...</td>\n",
       "    </tr>\n",
       "    <tr>\n",
       "      <th>296</th>\n",
       "      <td>What factors should I consider when choosing a...</td>\n",
       "      <td>When selecting a health insurance plan, you sh...</td>\n",
       "    </tr>\n",
       "    <tr>\n",
       "      <th>297</th>\n",
       "      <td>What should I consider when choosing a health ...</td>\n",
       "      <td>When selecting a health insurance plan for you...</td>\n",
       "    </tr>\n",
       "    <tr>\n",
       "      <th>298</th>\n",
       "      <td>What is the difference between in-network and ...</td>\n",
       "      <td>In-network providers have a pre-established ag...</td>\n",
       "    </tr>\n",
       "    <tr>\n",
       "      <th>299</th>\n",
       "      <td>What factors should I consider when choosing a...</td>\n",
       "      <td>When selecting a health insurance plan, you sh...</td>\n",
       "    </tr>\n",
       "  </tbody>\n",
       "</table>\n",
       "<p>300 rows × 2 columns</p>\n",
       "</div>"
      ]
     },
     "execution_count": 9,
     "metadata": {},
     "output_type": "execute_result"
    }
   ],
   "execution_count": 9
  },
  {
   "metadata": {
    "ExecuteTime": {
     "end_time": "2025-05-28T10:14:36.854860Z",
     "start_time": "2025-05-28T10:14:36.846819Z"
    }
   },
   "cell_type": "code",
   "source": "df_2",
   "id": "4ec78941044384a5",
   "outputs": [
    {
     "data": {
      "text/plain": [
       "                                               question  \\\n",
       "0     What should I know about my health insurance p...   \n",
       "1     What are the key details I should understand a...   \n",
       "2     What are the key terms I should understand in ...   \n",
       "3     What should I know about my health insurance p...   \n",
       "4     What are the key details I should know about m...   \n",
       "...                                                 ...   \n",
       "2495  How is the cost of health insurance determined...   \n",
       "2496  How is the cost of health insurance determined...   \n",
       "2497  How is the cost of health insurance determined...   \n",
       "2498  How is the cost of health insurance determined...   \n",
       "2499  How is the cost of health insurance determined...   \n",
       "\n",
       "                                                 answer  \n",
       "0     Understanding your health insurance policy ter...  \n",
       "1     It’s important to understand several key detai...  \n",
       "2     Key terms to understand in your health insuran...  \n",
       "3     Your health insurance policy terms outline the...  \n",
       "4     When reviewing your health insurance policy, b...  \n",
       "...                                                 ...  \n",
       "2495  The cost of health insurance is determined by ...  \n",
       "2496  The cost of health insurance is determined by ...  \n",
       "2497  The cost of health insurance is determined by ...  \n",
       "2498  The cost of health insurance is influenced by ...  \n",
       "2499  The cost of health insurance is determined by ...  \n",
       "\n",
       "[2500 rows x 2 columns]"
      ],
      "text/html": [
       "<div>\n",
       "<style scoped>\n",
       "    .dataframe tbody tr th:only-of-type {\n",
       "        vertical-align: middle;\n",
       "    }\n",
       "\n",
       "    .dataframe tbody tr th {\n",
       "        vertical-align: top;\n",
       "    }\n",
       "\n",
       "    .dataframe thead th {\n",
       "        text-align: right;\n",
       "    }\n",
       "</style>\n",
       "<table border=\"1\" class=\"dataframe\">\n",
       "  <thead>\n",
       "    <tr style=\"text-align: right;\">\n",
       "      <th></th>\n",
       "      <th>question</th>\n",
       "      <th>answer</th>\n",
       "    </tr>\n",
       "  </thead>\n",
       "  <tbody>\n",
       "    <tr>\n",
       "      <th>0</th>\n",
       "      <td>What should I know about my health insurance p...</td>\n",
       "      <td>Understanding your health insurance policy ter...</td>\n",
       "    </tr>\n",
       "    <tr>\n",
       "      <th>1</th>\n",
       "      <td>What are the key details I should understand a...</td>\n",
       "      <td>It’s important to understand several key detai...</td>\n",
       "    </tr>\n",
       "    <tr>\n",
       "      <th>2</th>\n",
       "      <td>What are the key terms I should understand in ...</td>\n",
       "      <td>Key terms to understand in your health insuran...</td>\n",
       "    </tr>\n",
       "    <tr>\n",
       "      <th>3</th>\n",
       "      <td>What should I know about my health insurance p...</td>\n",
       "      <td>Your health insurance policy terms outline the...</td>\n",
       "    </tr>\n",
       "    <tr>\n",
       "      <th>4</th>\n",
       "      <td>What are the key details I should know about m...</td>\n",
       "      <td>When reviewing your health insurance policy, b...</td>\n",
       "    </tr>\n",
       "    <tr>\n",
       "      <th>...</th>\n",
       "      <td>...</td>\n",
       "      <td>...</td>\n",
       "    </tr>\n",
       "    <tr>\n",
       "      <th>2495</th>\n",
       "      <td>How is the cost of health insurance determined...</td>\n",
       "      <td>The cost of health insurance is determined by ...</td>\n",
       "    </tr>\n",
       "    <tr>\n",
       "      <th>2496</th>\n",
       "      <td>How is the cost of health insurance determined...</td>\n",
       "      <td>The cost of health insurance is determined by ...</td>\n",
       "    </tr>\n",
       "    <tr>\n",
       "      <th>2497</th>\n",
       "      <td>How is the cost of health insurance determined...</td>\n",
       "      <td>The cost of health insurance is determined by ...</td>\n",
       "    </tr>\n",
       "    <tr>\n",
       "      <th>2498</th>\n",
       "      <td>How is the cost of health insurance determined...</td>\n",
       "      <td>The cost of health insurance is influenced by ...</td>\n",
       "    </tr>\n",
       "    <tr>\n",
       "      <th>2499</th>\n",
       "      <td>How is the cost of health insurance determined...</td>\n",
       "      <td>The cost of health insurance is determined by ...</td>\n",
       "    </tr>\n",
       "  </tbody>\n",
       "</table>\n",
       "<p>2500 rows × 2 columns</p>\n",
       "</div>"
      ]
     },
     "execution_count": 10,
     "metadata": {},
     "output_type": "execute_result"
    }
   ],
   "execution_count": 10
  },
  {
   "metadata": {
    "ExecuteTime": {
     "end_time": "2025-05-28T10:14:52.872348Z",
     "start_time": "2025-05-28T10:14:52.865846Z"
    }
   },
   "cell_type": "code",
   "source": "df = pd.concat([df_1, df_2], ignore_index=True)",
   "id": "4feb84342ec0eaaf",
   "outputs": [],
   "execution_count": 11
  },
  {
   "metadata": {
    "ExecuteTime": {
     "end_time": "2025-05-28T10:14:54.097931Z",
     "start_time": "2025-05-28T10:14:54.087732Z"
    }
   },
   "cell_type": "code",
   "source": "df",
   "id": "ef59454415bbc8a9",
   "outputs": [
    {
     "data": {
      "text/plain": [
       "                                               question  \\\n",
       "0     What is the difference between an in-network a...   \n",
       "1     What is a deductible and how does it work in m...   \n",
       "2     What should I consider when choosing a health ...   \n",
       "3     Are pre-existing conditions covered under heal...   \n",
       "4     What is the importance of understanding your h...   \n",
       "...                                                 ...   \n",
       "2795  How is the cost of health insurance determined...   \n",
       "2796  How is the cost of health insurance determined...   \n",
       "2797  How is the cost of health insurance determined...   \n",
       "2798  How is the cost of health insurance determined...   \n",
       "2799  How is the cost of health insurance determined...   \n",
       "\n",
       "                                                 answer  \n",
       "0     In-network providers are healthcare profession...  \n",
       "1     A deductible is the amount you pay out-of-pock...  \n",
       "2     When choosing a health insurance plan, conside...  \n",
       "3     Yes, many health insurance plans provide cover...  \n",
       "4     Understanding your health insurance policy's n...  \n",
       "...                                                 ...  \n",
       "2795  The cost of health insurance is determined by ...  \n",
       "2796  The cost of health insurance is determined by ...  \n",
       "2797  The cost of health insurance is determined by ...  \n",
       "2798  The cost of health insurance is influenced by ...  \n",
       "2799  The cost of health insurance is determined by ...  \n",
       "\n",
       "[2800 rows x 2 columns]"
      ],
      "text/html": [
       "<div>\n",
       "<style scoped>\n",
       "    .dataframe tbody tr th:only-of-type {\n",
       "        vertical-align: middle;\n",
       "    }\n",
       "\n",
       "    .dataframe tbody tr th {\n",
       "        vertical-align: top;\n",
       "    }\n",
       "\n",
       "    .dataframe thead th {\n",
       "        text-align: right;\n",
       "    }\n",
       "</style>\n",
       "<table border=\"1\" class=\"dataframe\">\n",
       "  <thead>\n",
       "    <tr style=\"text-align: right;\">\n",
       "      <th></th>\n",
       "      <th>question</th>\n",
       "      <th>answer</th>\n",
       "    </tr>\n",
       "  </thead>\n",
       "  <tbody>\n",
       "    <tr>\n",
       "      <th>0</th>\n",
       "      <td>What is the difference between an in-network a...</td>\n",
       "      <td>In-network providers are healthcare profession...</td>\n",
       "    </tr>\n",
       "    <tr>\n",
       "      <th>1</th>\n",
       "      <td>What is a deductible and how does it work in m...</td>\n",
       "      <td>A deductible is the amount you pay out-of-pock...</td>\n",
       "    </tr>\n",
       "    <tr>\n",
       "      <th>2</th>\n",
       "      <td>What should I consider when choosing a health ...</td>\n",
       "      <td>When choosing a health insurance plan, conside...</td>\n",
       "    </tr>\n",
       "    <tr>\n",
       "      <th>3</th>\n",
       "      <td>Are pre-existing conditions covered under heal...</td>\n",
       "      <td>Yes, many health insurance plans provide cover...</td>\n",
       "    </tr>\n",
       "    <tr>\n",
       "      <th>4</th>\n",
       "      <td>What is the importance of understanding your h...</td>\n",
       "      <td>Understanding your health insurance policy's n...</td>\n",
       "    </tr>\n",
       "    <tr>\n",
       "      <th>...</th>\n",
       "      <td>...</td>\n",
       "      <td>...</td>\n",
       "    </tr>\n",
       "    <tr>\n",
       "      <th>2795</th>\n",
       "      <td>How is the cost of health insurance determined...</td>\n",
       "      <td>The cost of health insurance is determined by ...</td>\n",
       "    </tr>\n",
       "    <tr>\n",
       "      <th>2796</th>\n",
       "      <td>How is the cost of health insurance determined...</td>\n",
       "      <td>The cost of health insurance is determined by ...</td>\n",
       "    </tr>\n",
       "    <tr>\n",
       "      <th>2797</th>\n",
       "      <td>How is the cost of health insurance determined...</td>\n",
       "      <td>The cost of health insurance is determined by ...</td>\n",
       "    </tr>\n",
       "    <tr>\n",
       "      <th>2798</th>\n",
       "      <td>How is the cost of health insurance determined...</td>\n",
       "      <td>The cost of health insurance is influenced by ...</td>\n",
       "    </tr>\n",
       "    <tr>\n",
       "      <th>2799</th>\n",
       "      <td>How is the cost of health insurance determined...</td>\n",
       "      <td>The cost of health insurance is determined by ...</td>\n",
       "    </tr>\n",
       "  </tbody>\n",
       "</table>\n",
       "<p>2800 rows × 2 columns</p>\n",
       "</div>"
      ]
     },
     "execution_count": 12,
     "metadata": {},
     "output_type": "execute_result"
    }
   ],
   "execution_count": 12
  },
  {
   "metadata": {
    "ExecuteTime": {
     "end_time": "2025-05-28T10:39:40.749559Z",
     "start_time": "2025-05-28T10:39:40.731086Z"
    }
   },
   "cell_type": "code",
   "source": "df.duplicated().sum()",
   "id": "6ed0320e2c0b4778",
   "outputs": [
    {
     "data": {
      "text/plain": [
       "0"
      ]
     },
     "execution_count": 17,
     "metadata": {},
     "output_type": "execute_result"
    }
   ],
   "execution_count": 17
  },
  {
   "metadata": {
    "ExecuteTime": {
     "end_time": "2025-05-28T11:39:31.860982Z",
     "start_time": "2025-05-28T11:39:30.866376Z"
    }
   },
   "cell_type": "code",
   "source": [
    "\n",
    "# Function to clean text fields\n",
    "def clean_text(text):\n",
    "    # Remove AI-related trace phrases\n",
    "    ai_patterns = [\n",
    "        r\"(?i)generated by gpt[\\w\\s]*\",\n",
    "        r\"(?i)ai[-\\s]?generated[\\w\\s]*\",\n",
    "        r\"(?i)created by chatgpt[\\w\\s]*\",\n",
    "        r\"(?i)this response was generated[\\w\\s]*\",\n",
    "        r\"(?i)as an ai language model[\\w\\s]*\",\n",
    "        r\"(?i)using openai[\\w\\s]*\"\n",
    "    ]\n",
    "    for pattern in ai_patterns:\n",
    "        text = re.sub(pattern, '', text)\n",
    "\n",
    "    # Remove markdown and extra whitespace\n",
    "    text = re.sub(r'\\*\\*([^*]+)\\*\\*', r'\\1', text)   # Remove **bold**\n",
    "    text = re.sub(r\"\\s*\\n+\\s*\", \" \", text)           # Replace newlines with space\n",
    "    text = re.sub(r'\\s+', ' ', text).strip()         # Remove redundant spaces\n",
    "\n",
    "    return text\n",
    "\n",
    "# Apply cleaning\n",
    "df[\"question\"] = df[\"question\"].apply(clean_text)\n",
    "df[\"answer\"] = df[\"answer\"].apply(clean_text)\n"
   ],
   "id": "c8993c6c48a1670b",
   "outputs": [],
   "execution_count": 37
  },
  {
   "metadata": {
    "ExecuteTime": {
     "end_time": "2025-05-28T11:37:57.030604Z",
     "start_time": "2025-05-28T11:37:56.999841Z"
    }
   },
   "cell_type": "code",
   "source": "df.duplicated().sum()",
   "id": "81fdfa6533d62c42",
   "outputs": [
    {
     "data": {
      "text/plain": [
       "0"
      ]
     },
     "execution_count": 34,
     "metadata": {},
     "output_type": "execute_result"
    }
   ],
   "execution_count": 34
  },
  {
   "metadata": {
    "ExecuteTime": {
     "end_time": "2025-05-28T11:20:32.077912Z",
     "start_time": "2025-05-28T11:20:32.018497Z"
    }
   },
   "cell_type": "code",
   "source": "df.to_csv(\"generated data.csv\", index=False)",
   "id": "462bbcd6a431c26a",
   "outputs": [],
   "execution_count": 32
  },
  {
   "metadata": {},
   "cell_type": "code",
   "outputs": [],
   "execution_count": null,
   "source": "",
   "id": "c79a405c6b69ab"
  }
 ],
 "metadata": {
  "kernelspec": {
   "display_name": "Python 3",
   "language": "python",
   "name": "python3"
  },
  "language_info": {
   "codemirror_mode": {
    "name": "ipython",
    "version": 2
   },
   "file_extension": ".py",
   "mimetype": "text/x-python",
   "name": "python",
   "nbconvert_exporter": "python",
   "pygments_lexer": "ipython2",
   "version": "2.7.6"
  }
 },
 "nbformat": 4,
 "nbformat_minor": 5
}
