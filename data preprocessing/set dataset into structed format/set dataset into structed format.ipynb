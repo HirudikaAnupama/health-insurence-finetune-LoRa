{
 "cells": [
  {
   "cell_type": "code",
   "id": "initial_id",
   "metadata": {
    "collapsed": true,
    "ExecuteTime": {
     "end_time": "2025-05-28T11:47:11.494770Z",
     "start_time": "2025-05-28T11:47:10.841494Z"
    }
   },
   "source": [
    "import pandas as pd\n",
    "import json\n",
    "import re\n",
    "\n",
    "# Load the cleaned CSV dataset\n",
    "df = pd.read_csv(r\"C:\\Users\\LENOVO\\Desktop\\Lectures 5\\Internship\\Works\\Task 2.1\\Health-insureance\\data preprocessing\\finalized dataset\\finalized_health_insurance_qna.csv\")\n",
    "\n",
    "# Shuffle the dataset\n",
    "df = df.sample(frac=1, random_state=42).reset_index(drop=True)  # random_state ensures reproducibility\n",
    "\n",
    "# Define system prompt\n",
    "system_prompt = (\n",
    "    \"You are a helpful, knowledgeable, and unbiased assistant trained to answer general questions about health insurance. \"\n",
    "    \"Your responses should be accurate, concise, and easy to understand by the average person. \"\n",
    "    \"Do not include links, phone numbers, organization names, or any sensitive or promotional content. \"\n",
    "    \"Always respond with general and reliable information applicable to most people, avoiding region-specific or company-specific details.\"\n",
    ")\n",
    "\n",
    "# Helper function to clean the answer\n",
    "def clean_answer(answer):\n",
    "    return re.sub(r\"Q:\\s?.*$\", \"\", answer.strip(), flags=re.MULTILINE).strip()\n",
    "\n",
    "# Save to JSONL\n",
    "output_file = \"mistral_finetune_dataset_new.jsonl\"\n",
    "with open(output_file, \"w\", encoding=\"utf-8\") as f:\n",
    "    for _, row in df.iterrows():\n",
    "        question = str(row[\"question\"]).strip()\n",
    "        answer = clean_answer(str(row[\"answer\"]).strip())\n",
    "\n",
    "        json.dump({\n",
    "            \"messages\": [\n",
    "                {\"role\": \"system\", \"content\": system_prompt},\n",
    "                {\"role\": \"user\", \"content\": question},\n",
    "                {\"role\": \"assistant\", \"content\": answer}\n",
    "            ]\n",
    "        }, f)\n",
    "        f.write(\"\\n\")\n",
    "\n",
    "print(f\"Shuffled dataset saved to {output_file}\")\n"
   ],
   "outputs": [
    {
     "name": "stdout",
     "output_type": "stream",
     "text": [
      "Shuffled dataset saved to mistral_finetune_dataset_new.jsonl\n"
     ]
    }
   ],
   "execution_count": 9
  },
  {
   "metadata": {},
   "cell_type": "code",
   "outputs": [],
   "execution_count": null,
   "source": "",
   "id": "d147d26b7e4a2faa"
  }
 ],
 "metadata": {
  "kernelspec": {
   "display_name": "Python 3",
   "language": "python",
   "name": "python3"
  },
  "language_info": {
   "codemirror_mode": {
    "name": "ipython",
    "version": 2
   },
   "file_extension": ".py",
   "mimetype": "text/x-python",
   "name": "python",
   "nbconvert_exporter": "python",
   "pygments_lexer": "ipython2",
   "version": "2.7.6"
  }
 },
 "nbformat": 4,
 "nbformat_minor": 5
}
