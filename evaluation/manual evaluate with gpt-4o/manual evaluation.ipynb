{
 "cells": [
  {
   "cell_type": "code",
   "id": "initial_id",
   "metadata": {
    "collapsed": true,
    "ExecuteTime": {
     "end_time": "2025-05-29T17:48:23.593407Z",
     "start_time": "2025-05-29T17:48:23.011265Z"
    }
   },
   "source": "import pandas as pd",
   "outputs": [],
   "execution_count": 1
  },
  {
   "metadata": {
    "ExecuteTime": {
     "end_time": "2025-05-29T17:48:23.612653Z",
     "start_time": "2025-05-29T17:48:23.593407Z"
    }
   },
   "cell_type": "code",
   "source": "df = pd.read_csv(r\"C:\\Users\\LENOVO\\Desktop\\Sample.csv\")",
   "id": "8f8fc0843fee4151",
   "outputs": [],
   "execution_count": 2
  },
  {
   "metadata": {
    "ExecuteTime": {
     "end_time": "2025-05-29T17:48:23.636421Z",
     "start_time": "2025-05-29T17:48:23.613663Z"
    }
   },
   "cell_type": "code",
   "source": "df",
   "id": "c964b49a561fb857",
   "outputs": [
    {
     "data": {
      "text/plain": [
       "      #                                           Question  \\\n",
       "0   1.0                   Why do we need health insurance?   \n",
       "1   2.0                     How do I get health insurance?   \n",
       "2   3.0                          What is health insurance?   \n",
       "3   4.0                 Why should I buy health insurance?   \n",
       "4   5.0  How will health insurance pay for my emergency...   \n",
       "..  ...                                                ...   \n",
       "67  NaN                                                NaN   \n",
       "68  NaN                                                NaN   \n",
       "69  NaN                                                NaN   \n",
       "70  NaN                                                NaN   \n",
       "71  NaN                                                NaN   \n",
       "\n",
       "   Quality of the question (Low, Medium, High)  \\\n",
       "0                                          Low   \n",
       "1                                          Low   \n",
       "2                                          Low   \n",
       "3                                          Low   \n",
       "4                                         High   \n",
       "..                                         ...   \n",
       "67                                         NaN   \n",
       "68                                         NaN   \n",
       "69                                         NaN   \n",
       "70                                         NaN   \n",
       "71                                         NaN   \n",
       "\n",
       "                                      Expected Answer  \\\n",
       "0   As medical care advances and treatments increa...   \n",
       "1   Most people get health insurance through their...   \n",
       "2   Health insurance is an insurance product that ...   \n",
       "3   You should purchase health insurance so that y...   \n",
       "4   Your health insurance will either pay your hos...   \n",
       "..                                                ...   \n",
       "67                                                NaN   \n",
       "68                                                NaN   \n",
       "69                                                NaN   \n",
       "70                                                NaN   \n",
       "71                                                NaN   \n",
       "\n",
       "          Initial Answer from Base Model (Mistral 7B)  \\\n",
       "0   Health insurance is important because it helps...   \n",
       "1   Health insurance is a policy that helps you pa...   \n",
       "2   Health insurance is a type of insurance that h...   \n",
       "3   Health insurance is a type of insurance that h...   \n",
       "4   Health insurance is a type of insurance that h...   \n",
       "..                                                ...   \n",
       "67                                                NaN   \n",
       "68                                                NaN   \n",
       "69                                                NaN   \n",
       "70                                                NaN   \n",
       "71                                                NaN   \n",
       "\n",
       "               Initial Answer from LLM (gpt-4o-mini)   \\\n",
       "0   Health insurance is important for several reas...   \n",
       "1   Getting health insurance typically involves a ...   \n",
       "2   Health insurance is a type of coverage that pa...   \n",
       "3   Buying health insurance is important for sever...   \n",
       "4   Health insurance typically covers emergency me...   \n",
       "..                                                ...   \n",
       "67                                                NaN   \n",
       "68                                                NaN   \n",
       "69                                                NaN   \n",
       "70                                                NaN   \n",
       "71                                                NaN   \n",
       "\n",
       "               Finetuned Mistral Model 1 (250 Tokens)  \\\n",
       "0   Health insurance is important because it prote...   \n",
       "1   You can get health insurance by applying for a...   \n",
       "2   Health insurance is a type of insurance that c...   \n",
       "3   Choosing the right health insurance plan invol...   \n",
       "4   Your health insurance plan will cover emergenc...   \n",
       "..                                                ...   \n",
       "67                                                NaN   \n",
       "68                                                NaN   \n",
       "69                                                NaN   \n",
       "70                                                NaN   \n",
       "71                                                NaN   \n",
       "\n",
       "               Finetuned Mistral Model 1 (100 Tokens)  \\\n",
       "0   Health insurance is important because it prote...   \n",
       "1   You can get health insurance by applying for a...   \n",
       "2   Health insurance is a type of insurance that c...   \n",
       "3   You should buy health insurance because it is ...   \n",
       "4   Your health insurance plan will cover emergenc...   \n",
       "..                                                ...   \n",
       "67                                                NaN   \n",
       "68                                                NaN   \n",
       "69                                                NaN   \n",
       "70                                                NaN   \n",
       "71                                                NaN   \n",
       "\n",
       "   BLUE Score  (Base Mistral 7B  vs  gpt-4o-mini  vs  Finetuned Mistral Model 1)  \\\n",
       "0   fine_tuned: BLEU = 0.0316\\nbase_model: BLEU = ...                              \n",
       "1   fine_tuned: BLEU = 0.0596\\nbase_model: BLEU = ...                              \n",
       "2   fine_tuned: BLEU = 0.0328\\nbase_model: BLEU = ...                              \n",
       "3   fine_tuned: BLEU = 0.0162\\nbase_model: BLEU = ...                              \n",
       "4   fine_tuned: BLEU = 0.0286\\nbase_model: BLEU = ...                              \n",
       "..                                                ...                              \n",
       "67                                                NaN                              \n",
       "68                                                NaN                              \n",
       "69                                                NaN                              \n",
       "70                                                NaN                              \n",
       "71                                                NaN                              \n",
       "\n",
       "               Finetuned Mistral Model 2 (250 Tokens)  \\\n",
       "0   We all need health insurance because we never ...   \n",
       "1   To get health insurance, you typically need to...   \n",
       "2   Health insurance is an insurance product that ...   \n",
       "3   Health insurance is a safety net for unforesee...   \n",
       "4   Your health insurance policy will cover a sign...   \n",
       "..                                                ...   \n",
       "67                                                NaN   \n",
       "68                                                NaN   \n",
       "69                                                NaN   \n",
       "70                                                NaN   \n",
       "71                                                NaN   \n",
       "\n",
       "               Finetuned Mistral Model 2 (100 Tokens)  \\\n",
       "0   Health Insurance is a must for all because of ...   \n",
       "1   Getting health insurance involves several step...   \n",
       "2   Health insurance is an insurance product which...   \n",
       "3   Health insurance is important for your financi...   \n",
       "4   Your health insurance plan will cover the hosp...   \n",
       "..                                                ...   \n",
       "67                                                NaN   \n",
       "68                                                NaN   \n",
       "69                                                NaN   \n",
       "70                                                NaN   \n",
       "71                                                NaN   \n",
       "\n",
       "    BLUE Score  (Base Mistral 7B  vs  gpt-4o-mini  vs  Finetuned Mistral Model 2)  \n",
       "0                                                 NaN                              \n",
       "1                                                 NaN                              \n",
       "2                                                 NaN                              \n",
       "3                                                 NaN                              \n",
       "4                                                 NaN                              \n",
       "..                                                ...                              \n",
       "67                                                NaN                              \n",
       "68                                                NaN                              \n",
       "69                                                NaN                              \n",
       "70                                                NaN                              \n",
       "71                                                NaN                              \n",
       "\n",
       "[72 rows x 12 columns]"
      ],
      "text/html": [
       "<div>\n",
       "<style scoped>\n",
       "    .dataframe tbody tr th:only-of-type {\n",
       "        vertical-align: middle;\n",
       "    }\n",
       "\n",
       "    .dataframe tbody tr th {\n",
       "        vertical-align: top;\n",
       "    }\n",
       "\n",
       "    .dataframe thead th {\n",
       "        text-align: right;\n",
       "    }\n",
       "</style>\n",
       "<table border=\"1\" class=\"dataframe\">\n",
       "  <thead>\n",
       "    <tr style=\"text-align: right;\">\n",
       "      <th></th>\n",
       "      <th>#</th>\n",
       "      <th>Question</th>\n",
       "      <th>Quality of the question (Low, Medium, High)</th>\n",
       "      <th>Expected Answer</th>\n",
       "      <th>Initial Answer from Base Model (Mistral 7B)</th>\n",
       "      <th>Initial Answer from LLM (gpt-4o-mini)</th>\n",
       "      <th>Finetuned Mistral Model 1 (250 Tokens)</th>\n",
       "      <th>Finetuned Mistral Model 1 (100 Tokens)</th>\n",
       "      <th>BLUE Score  (Base Mistral 7B  vs  gpt-4o-mini  vs  Finetuned Mistral Model 1)</th>\n",
       "      <th>Finetuned Mistral Model 2 (250 Tokens)</th>\n",
       "      <th>Finetuned Mistral Model 2 (100 Tokens)</th>\n",
       "      <th>BLUE Score  (Base Mistral 7B  vs  gpt-4o-mini  vs  Finetuned Mistral Model 2)</th>\n",
       "    </tr>\n",
       "  </thead>\n",
       "  <tbody>\n",
       "    <tr>\n",
       "      <th>0</th>\n",
       "      <td>1.0</td>\n",
       "      <td>Why do we need health insurance?</td>\n",
       "      <td>Low</td>\n",
       "      <td>As medical care advances and treatments increa...</td>\n",
       "      <td>Health insurance is important because it helps...</td>\n",
       "      <td>Health insurance is important for several reas...</td>\n",
       "      <td>Health insurance is important because it prote...</td>\n",
       "      <td>Health insurance is important because it prote...</td>\n",
       "      <td>fine_tuned: BLEU = 0.0316\\nbase_model: BLEU = ...</td>\n",
       "      <td>We all need health insurance because we never ...</td>\n",
       "      <td>Health Insurance is a must for all because of ...</td>\n",
       "      <td>NaN</td>\n",
       "    </tr>\n",
       "    <tr>\n",
       "      <th>1</th>\n",
       "      <td>2.0</td>\n",
       "      <td>How do I get health insurance?</td>\n",
       "      <td>Low</td>\n",
       "      <td>Most people get health insurance through their...</td>\n",
       "      <td>Health insurance is a policy that helps you pa...</td>\n",
       "      <td>Getting health insurance typically involves a ...</td>\n",
       "      <td>You can get health insurance by applying for a...</td>\n",
       "      <td>You can get health insurance by applying for a...</td>\n",
       "      <td>fine_tuned: BLEU = 0.0596\\nbase_model: BLEU = ...</td>\n",
       "      <td>To get health insurance, you typically need to...</td>\n",
       "      <td>Getting health insurance involves several step...</td>\n",
       "      <td>NaN</td>\n",
       "    </tr>\n",
       "    <tr>\n",
       "      <th>2</th>\n",
       "      <td>3.0</td>\n",
       "      <td>What is health insurance?</td>\n",
       "      <td>Low</td>\n",
       "      <td>Health insurance is an insurance product that ...</td>\n",
       "      <td>Health insurance is a type of insurance that h...</td>\n",
       "      <td>Health insurance is a type of coverage that pa...</td>\n",
       "      <td>Health insurance is a type of insurance that c...</td>\n",
       "      <td>Health insurance is a type of insurance that c...</td>\n",
       "      <td>fine_tuned: BLEU = 0.0328\\nbase_model: BLEU = ...</td>\n",
       "      <td>Health insurance is an insurance product that ...</td>\n",
       "      <td>Health insurance is an insurance product which...</td>\n",
       "      <td>NaN</td>\n",
       "    </tr>\n",
       "    <tr>\n",
       "      <th>3</th>\n",
       "      <td>4.0</td>\n",
       "      <td>Why should I buy health insurance?</td>\n",
       "      <td>Low</td>\n",
       "      <td>You should purchase health insurance so that y...</td>\n",
       "      <td>Health insurance is a type of insurance that h...</td>\n",
       "      <td>Buying health insurance is important for sever...</td>\n",
       "      <td>Choosing the right health insurance plan invol...</td>\n",
       "      <td>You should buy health insurance because it is ...</td>\n",
       "      <td>fine_tuned: BLEU = 0.0162\\nbase_model: BLEU = ...</td>\n",
       "      <td>Health insurance is a safety net for unforesee...</td>\n",
       "      <td>Health insurance is important for your financi...</td>\n",
       "      <td>NaN</td>\n",
       "    </tr>\n",
       "    <tr>\n",
       "      <th>4</th>\n",
       "      <td>5.0</td>\n",
       "      <td>How will health insurance pay for my emergency...</td>\n",
       "      <td>High</td>\n",
       "      <td>Your health insurance will either pay your hos...</td>\n",
       "      <td>Health insurance is a type of insurance that h...</td>\n",
       "      <td>Health insurance typically covers emergency me...</td>\n",
       "      <td>Your health insurance plan will cover emergenc...</td>\n",
       "      <td>Your health insurance plan will cover emergenc...</td>\n",
       "      <td>fine_tuned: BLEU = 0.0286\\nbase_model: BLEU = ...</td>\n",
       "      <td>Your health insurance policy will cover a sign...</td>\n",
       "      <td>Your health insurance plan will cover the hosp...</td>\n",
       "      <td>NaN</td>\n",
       "    </tr>\n",
       "    <tr>\n",
       "      <th>...</th>\n",
       "      <td>...</td>\n",
       "      <td>...</td>\n",
       "      <td>...</td>\n",
       "      <td>...</td>\n",
       "      <td>...</td>\n",
       "      <td>...</td>\n",
       "      <td>...</td>\n",
       "      <td>...</td>\n",
       "      <td>...</td>\n",
       "      <td>...</td>\n",
       "      <td>...</td>\n",
       "      <td>...</td>\n",
       "    </tr>\n",
       "    <tr>\n",
       "      <th>67</th>\n",
       "      <td>NaN</td>\n",
       "      <td>NaN</td>\n",
       "      <td>NaN</td>\n",
       "      <td>NaN</td>\n",
       "      <td>NaN</td>\n",
       "      <td>NaN</td>\n",
       "      <td>NaN</td>\n",
       "      <td>NaN</td>\n",
       "      <td>NaN</td>\n",
       "      <td>NaN</td>\n",
       "      <td>NaN</td>\n",
       "      <td>NaN</td>\n",
       "    </tr>\n",
       "    <tr>\n",
       "      <th>68</th>\n",
       "      <td>NaN</td>\n",
       "      <td>NaN</td>\n",
       "      <td>NaN</td>\n",
       "      <td>NaN</td>\n",
       "      <td>NaN</td>\n",
       "      <td>NaN</td>\n",
       "      <td>NaN</td>\n",
       "      <td>NaN</td>\n",
       "      <td>NaN</td>\n",
       "      <td>NaN</td>\n",
       "      <td>NaN</td>\n",
       "      <td>NaN</td>\n",
       "    </tr>\n",
       "    <tr>\n",
       "      <th>69</th>\n",
       "      <td>NaN</td>\n",
       "      <td>NaN</td>\n",
       "      <td>NaN</td>\n",
       "      <td>NaN</td>\n",
       "      <td>NaN</td>\n",
       "      <td>NaN</td>\n",
       "      <td>NaN</td>\n",
       "      <td>NaN</td>\n",
       "      <td>NaN</td>\n",
       "      <td>NaN</td>\n",
       "      <td>NaN</td>\n",
       "      <td>NaN</td>\n",
       "    </tr>\n",
       "    <tr>\n",
       "      <th>70</th>\n",
       "      <td>NaN</td>\n",
       "      <td>NaN</td>\n",
       "      <td>NaN</td>\n",
       "      <td>NaN</td>\n",
       "      <td>NaN</td>\n",
       "      <td>NaN</td>\n",
       "      <td>NaN</td>\n",
       "      <td>NaN</td>\n",
       "      <td>NaN</td>\n",
       "      <td>NaN</td>\n",
       "      <td>NaN</td>\n",
       "      <td>NaN</td>\n",
       "    </tr>\n",
       "    <tr>\n",
       "      <th>71</th>\n",
       "      <td>NaN</td>\n",
       "      <td>NaN</td>\n",
       "      <td>NaN</td>\n",
       "      <td>NaN</td>\n",
       "      <td>NaN</td>\n",
       "      <td>NaN</td>\n",
       "      <td>NaN</td>\n",
       "      <td>NaN</td>\n",
       "      <td>NaN</td>\n",
       "      <td>NaN</td>\n",
       "      <td>NaN</td>\n",
       "      <td>NaN</td>\n",
       "    </tr>\n",
       "  </tbody>\n",
       "</table>\n",
       "<p>72 rows × 12 columns</p>\n",
       "</div>"
      ]
     },
     "execution_count": 3,
     "metadata": {},
     "output_type": "execute_result"
    }
   ],
   "execution_count": 3
  },
  {
   "metadata": {
    "ExecuteTime": {
     "end_time": "2025-05-29T17:48:24.500507Z",
     "start_time": "2025-05-29T17:48:24.493910Z"
    }
   },
   "cell_type": "code",
   "source": "df.columns",
   "id": "99728765bf047e47",
   "outputs": [
    {
     "data": {
      "text/plain": [
       "Index(['#', 'Question', 'Quality of the question (Low, Medium, High)',\n",
       "       'Expected Answer', 'Initial Answer from Base Model (Mistral 7B)',\n",
       "       'Initial Answer from LLM (gpt-4o-mini) ',\n",
       "       'Finetuned Mistral Model 1 (250 Tokens)',\n",
       "       'Finetuned Mistral Model 1 (100 Tokens)',\n",
       "       'BLUE Score  (Base Mistral 7B  vs  gpt-4o-mini  vs  Finetuned Mistral Model 1)',\n",
       "       'Finetuned Mistral Model 2 (250 Tokens)',\n",
       "       'Finetuned Mistral Model 2 (100 Tokens)',\n",
       "       'BLUE Score  (Base Mistral 7B  vs  gpt-4o-mini  vs  Finetuned Mistral Model 2)'],\n",
       "      dtype='object')"
      ]
     },
     "execution_count": 4,
     "metadata": {},
     "output_type": "execute_result"
    }
   ],
   "execution_count": 4
  },
  {
   "metadata": {
    "ExecuteTime": {
     "end_time": "2025-05-29T20:32:44.754182Z",
     "start_time": "2025-05-29T20:30:09.432977Z"
    }
   },
   "cell_type": "code",
   "source": [
    "import pandas as pd\n",
    "import re\n",
    "from tqdm import tqdm\n",
    "from openai import OpenAI\n",
    "import time\n",
    "import json\n",
    "\n",
    "# Initialize the OpenAI client\n",
    "client = OpenAI(api_key=\".............\")\n",
    "\n",
    "# Load dataset\n",
    "df = pd.read_csv(r\"C:\\Users\\LENOVO\\Desktop\\Sample.csv\")\n",
    "\n",
    "# Clean and rename columns\n",
    "df.columns = df.columns.str.strip()\n",
    "df = df.rename(columns={\n",
    "    'Question': 'question',\n",
    "    'Expected Answer': 'expected_answer',\n",
    "    'Initial Answer from Base Model (Mistral 7B)': 'model_1',\n",
    "    'Initial Answer from LLM (gpt-4o-mini)': 'model_2',\n",
    "    'Finetuned Mistral Model 1 (100 Tokens)': 'model_3',\n",
    "    'Finetuned Mistral Model 2 (100 Tokens)': 'model_4'\n",
    "})\n",
    "\n",
    "# Limit to first 60 rows\n",
    "df = df.head(60)\n",
    "\n",
    "# Text sanitizer\n",
    "def sanitize(text):\n",
    "    return str(text).replace(\"\\n\", \" \").replace(\"\\\"\", \"'\").strip()\n",
    "\n",
    "# Evaluation function with reason (for 4 models)\n",
    "def get_best_model_with_reason(question, expected_answer, model_1, model_2, model_3, model_4):\n",
    "    system_prompt = (\n",
    "        \"You are a domain expert specializing in health insurance content evaluation. Your task is to assess four AI-generated answers \"\n",
    "        \"against a reference (expected) answer and determine which model's output is **most semantically aligned** with the expected response.\\n\\n\"\n",
    "    \n",
    "        \"Instructions:\\n\"\n",
    "        \"1. Focus strictly on **semantic similarity** — assess the factual alignment, intent, and meaning.\\n\"\n",
    "        \"2. Ignore differences in grammar, tone, phrasing, or formatting.\\n\"\n",
    "        \"3. Select the model that best captures the **core information and intent** of the expected answer.\\n\"\n",
    "        \"4. If multiple answers are close, choose the one that conveys the expected information more precisely.\\n\"\n",
    "        \"5. Your output must strictly follow the JSON format below. Do not include any additional text.\\n\\n\"\n",
    "    \n",
    "        \"Output Format:\\n\"\n",
    "        '{\\n  \"best_model\": \"Model X\",\\n  \"reason\": \"Concise explanation (10-20 words) of why this answer best matches the expected answer.\" \\n}'\n",
    "    )\n",
    "\n",
    "    user_prompt = f\"\"\"\n",
    "Expected Answer: {expected_answer}\n",
    "\n",
    "Model 1: {model_1}\n",
    "\n",
    "Model 2: {model_2}\n",
    "\n",
    "Model 3: {model_3}\n",
    "\n",
    "Model 4: {model_4}\n",
    "\n",
    "Which model's answer has the closest meaning to the expected answer? Only one model must be selected.\n",
    "\"\"\"\n",
    "\n",
    "    try:\n",
    "        response = client.chat.completions.create(\n",
    "            model=\"gpt-4o-mini\",\n",
    "            messages=[\n",
    "                {\"role\": \"system\", \"content\": system_prompt},\n",
    "                {\"role\": \"user\", \"content\": user_prompt}\n",
    "            ],\n",
    "            temperature=0.0,\n",
    "            max_tokens=100\n",
    "        )\n",
    "        content = response.choices[0].message.content.strip()\n",
    "\n",
    "        try:\n",
    "            parsed = json.loads(content)\n",
    "            best_model = parsed.get(\"best_model\", \"Unknown\")\n",
    "            reason = parsed.get(\"reason\", \"No reason provided.\")\n",
    "            return best_model, reason\n",
    "        except json.JSONDecodeError:\n",
    "            return f\"Unknown: {content}\", \"Invalid format from model.\"\n",
    "    except Exception as e:\n",
    "        return f\"ERROR: {str(e)}\", \"API error\"\n",
    "\n",
    "# Evaluate and store results\n",
    "best_models = []\n",
    "reasons = []\n",
    "backup_path = \"model_best_choices_backup_4models.csv\"\n",
    "\n",
    "for idx, row in tqdm(df.iterrows(), total=len(df)):\n",
    "    best_model, reason = get_best_model_with_reason(\n",
    "        sanitize(row['question']),\n",
    "        sanitize(row['expected_answer']),\n",
    "        sanitize(row['model_1']),\n",
    "        sanitize(row['model_2']),\n",
    "        sanitize(row['model_3']),\n",
    "        sanitize(row['model_4'])\n",
    "    )\n",
    "    best_models.append(best_model)\n",
    "    reasons.append(reason)\n",
    "    print(f\"[{idx}] Best: {best_model} | Reason: {reason}\")\n",
    "\n",
    "    time.sleep(1)\n",
    "\n",
    "    # Periodic backup every 10 rows\n",
    "    if idx % 10 == 0:\n",
    "        df['Best Model'] = best_models + [\"\"] * (len(df) - len(best_models))\n",
    "        df['Reason'] = reasons + [\"\"] * (len(df) - len(reasons))\n",
    "        df.to_csv(backup_path, index=False)\n",
    "\n",
    "# Final save\n",
    "df['Best Model'] = best_models\n",
    "df['Reason'] = reasons\n",
    "output_path = \"model_best_choices_60_with_reason_4models.csv\"\n",
    "df.to_csv(output_path, index=False)\n",
    "\n",
    "print(f\"\\nEvaluation complete. Results saved to: {output_path}\")"
   ],
   "id": "8703d944c9870cf0",
   "outputs": [
    {
     "name": "stderr",
     "output_type": "stream",
     "text": [
      "  0%|          | 0/60 [00:00<?, ?it/s]"
     ]
    },
    {
     "name": "stdout",
     "output_type": "stream",
     "text": [
      "[0] Best: Model 2 | Reason: It comprehensively covers financial protection, access to care, preventive services, and peace of mind.\n"
     ]
    },
    {
     "name": "stderr",
     "output_type": "stream",
     "text": [
      "  2%|▏         | 1/60 [00:02<02:22,  2.41s/it]"
     ]
    },
    {
     "name": "stdout",
     "output_type": "stream",
     "text": [
      "[1] Best: Model 2 | Reason: It accurately describes obtaining health insurance through employers, government programs, and individual purchases.\n"
     ]
    },
    {
     "name": "stderr",
     "output_type": "stream",
     "text": [
      "  3%|▎         | 2/60 [00:05<02:28,  2.56s/it]"
     ]
    },
    {
     "name": "stdout",
     "output_type": "stream",
     "text": [
      "[2] Best: Model 4 | Reason: It closely matches the expected answer's definition and details about health insurance coverage and premiums.\n"
     ]
    },
    {
     "name": "stderr",
     "output_type": "stream",
     "text": [
      "  5%|▌         | 3/60 [00:07<02:19,  2.45s/it]"
     ]
    },
    {
     "name": "stdout",
     "output_type": "stream",
     "text": [
      "[3] Best: Model 3 | Reason: It emphasizes financial protection and the impact of medical emergencies, aligning closely with the expected answer.\n"
     ]
    },
    {
     "name": "stderr",
     "output_type": "stream",
     "text": [
      "  7%|▋         | 4/60 [00:09<02:15,  2.41s/it]"
     ]
    },
    {
     "name": "stdout",
     "output_type": "stream",
     "text": [
      "[4] Best: Model 4 | Reason: It accurately describes cashless payment and reimbursement processes for hospital bills.\n"
     ]
    },
    {
     "name": "stderr",
     "output_type": "stream",
     "text": [
      "  8%|▊         | 5/60 [00:12<02:23,  2.61s/it]"
     ]
    },
    {
     "name": "stdout",
     "output_type": "stream",
     "text": [
      "[5] Best: Model 2 | Reason: It accurately addresses age eligibility for both adults and children, aligning closely with the expected answer.\n"
     ]
    },
    {
     "name": "stderr",
     "output_type": "stream",
     "text": [
      " 10%|█         | 6/60 [00:15<02:17,  2.54s/it]"
     ]
    },
    {
     "name": "stdout",
     "output_type": "stream",
     "text": [
      "[6] Best: Model 2 | Reason: It accurately captures the intent and details of covering various family members under health insurance.\n"
     ]
    },
    {
     "name": "stderr",
     "output_type": "stream",
     "text": [
      " 12%|█▏        | 7/60 [00:17<02:10,  2.46s/it]"
     ]
    },
    {
     "name": "stdout",
     "output_type": "stream",
     "text": [
      "[7] Best: Model 2 | Reason: It captures the intent of purchasing multiple plans while addressing specific needs and coverage.\n"
     ]
    },
    {
     "name": "stderr",
     "output_type": "stream",
     "text": [
      " 13%|█▎        | 8/60 [00:19<02:06,  2.43s/it]"
     ]
    },
    {
     "name": "stdout",
     "output_type": "stream",
     "text": [
      "[8] Best: Model 4 | Reason: It lists all the specific types of health insurance plans mentioned in the expected answer.\n"
     ]
    },
    {
     "name": "stderr",
     "output_type": "stream",
     "text": [
      " 15%|█▌        | 9/60 [00:22<02:01,  2.38s/it]"
     ]
    },
    {
     "name": "stdout",
     "output_type": "stream",
     "text": [
      "[9] Best: Model 2 | Reason: It accurately conveys the option to pay premiums in installments and lists common payment frequencies.\n"
     ]
    },
    {
     "name": "stderr",
     "output_type": "stream",
     "text": [
      " 17%|█▋        | 10/60 [00:24<01:57,  2.35s/it]"
     ]
    },
    {
     "name": "stdout",
     "output_type": "stream",
     "text": [
      "[10] Best: Model 3 | Reason: It closely matches the expected answer's core benefits and intent without unnecessary details.\n"
     ]
    },
    {
     "name": "stderr",
     "output_type": "stream",
     "text": [
      " 18%|█▊        | 11/60 [00:26<01:53,  2.31s/it]"
     ]
    },
    {
     "name": "stdout",
     "output_type": "stream",
     "text": [
      "[11] Best: Model 4 | Reason: It accurately captures the core information and intent of the expected answer.\n"
     ]
    },
    {
     "name": "stderr",
     "output_type": "stream",
     "text": [
      " 20%|██        | 12/60 [00:29<01:53,  2.36s/it]"
     ]
    },
    {
     "name": "stdout",
     "output_type": "stream",
     "text": [
      "[12] Best: Model 4 | Reason: It directly addresses extending coverage at policy renewal, aligning closely with the expected answer.\n"
     ]
    },
    {
     "name": "stderr",
     "output_type": "stream",
     "text": [
      " 22%|██▏       | 13/60 [00:31<01:56,  2.48s/it]"
     ]
    },
    {
     "name": "stdout",
     "output_type": "stream",
     "text": [
      "[13] Best: Model 3 | Reason: It accurately addresses pre-existing conditions, waiting periods, and coverage specifics.\n"
     ]
    },
    {
     "name": "stderr",
     "output_type": "stream",
     "text": [
      " 23%|██▎       | 14/60 [00:34<01:51,  2.42s/it]"
     ]
    },
    {
     "name": "stdout",
     "output_type": "stream",
     "text": [
      "[14] Best: Model 4 | Reason: It directly lists the benefits mentioned in the expected answer, maintaining core information and intent.\n"
     ]
    },
    {
     "name": "stderr",
     "output_type": "stream",
     "text": [
      " 25%|██▌       | 15/60 [00:36<01:45,  2.34s/it]"
     ]
    },
    {
     "name": "stdout",
     "output_type": "stream",
     "text": [
      "[15] Best: Model 4 | Reason: It comprehensively covers all key factors mentioned in the expected answer.\n"
     ]
    },
    {
     "name": "stderr",
     "output_type": "stream",
     "text": [
      " 27%|██▋       | 16/60 [00:38<01:40,  2.28s/it]"
     ]
    },
    {
     "name": "stdout",
     "output_type": "stream",
     "text": [
      "[16] Best: Model 3 | Reason: It accurately captures the core details about HSAs, HDHPs, and qualified expenses.\n"
     ]
    },
    {
     "name": "stderr",
     "output_type": "stream",
     "text": [
      " 28%|██▊       | 17/60 [00:40<01:39,  2.31s/it]"
     ]
    },
    {
     "name": "stdout",
     "output_type": "stream",
     "text": [
      "[17] Best: Model 2 | Reason: It thoroughly covers the appeal process and necessary documentation, aligning closely with the expected answer.\n"
     ]
    },
    {
     "name": "stderr",
     "output_type": "stream",
     "text": [
      " 30%|███       | 18/60 [00:43<01:38,  2.35s/it]"
     ]
    },
    {
     "name": "stdout",
     "output_type": "stream",
     "text": [
      "[18] Best: Model 3 | Reason: It directly addresses coverage scope and aligns with assessing healthcare needs.\n"
     ]
    },
    {
     "name": "stderr",
     "output_type": "stream",
     "text": [
      " 32%|███▏      | 19/60 [00:45<01:37,  2.39s/it]"
     ]
    },
    {
     "name": "stdout",
     "output_type": "stream",
     "text": [
      "[19] Best: Model 2 | Reason: It thoroughly explains premiums and copayments, emphasizing their importance for financial planning.\n"
     ]
    },
    {
     "name": "stderr",
     "output_type": "stream",
     "text": [
      " 33%|███▎      | 20/60 [00:48<01:39,  2.50s/it]"
     ]
    },
    {
     "name": "stdout",
     "output_type": "stream",
     "text": [
      "[20] Best: Model 2 | Reason: It accurately addresses network restrictions and emphasizes checking provider inclusion, aligning closely with the expected answer.\n"
     ]
    },
    {
     "name": "stderr",
     "output_type": "stream",
     "text": [
      " 35%|███▌      | 21/60 [00:50<01:35,  2.45s/it]"
     ]
    },
    {
     "name": "stdout",
     "output_type": "stream",
     "text": [
      "[21] Best: Model 2 | Reason: It accurately explains coverage limits and their importance for financial assessment.\n"
     ]
    },
    {
     "name": "stderr",
     "output_type": "stream",
     "text": [
      " 37%|███▋      | 22/60 [00:56<02:11,  3.45s/it]"
     ]
    },
    {
     "name": "stdout",
     "output_type": "stream",
     "text": [
      "[22] Best: Model 3 | Reason: It directly addresses coverage limitations for pre-existing conditions and emphasizes understanding these aspects.\n"
     ]
    },
    {
     "name": "stderr",
     "output_type": "stream",
     "text": [
      " 38%|███▊      | 23/60 [00:58<01:53,  3.08s/it]"
     ]
    },
    {
     "name": "stdout",
     "output_type": "stream",
     "text": [
      "[23] Best: Model 2 | Reason: It comprehensively covers the claim submission process and emphasizes understanding policy requirements.\n"
     ]
    },
    {
     "name": "stderr",
     "output_type": "stream",
     "text": [
      " 40%|████      | 24/60 [01:01<01:43,  2.88s/it]"
     ]
    },
    {
     "name": "stdout",
     "output_type": "stream",
     "text": [
      "[24] Best: Model 2 | Reason: It comprehensively covers various additional benefits and aligns closely with the expected answer's intent.\n"
     ]
    },
    {
     "name": "stderr",
     "output_type": "stream",
     "text": [
      " 42%|████▏     | 25/60 [01:03<01:37,  2.79s/it]"
     ]
    },
    {
     "name": "stdout",
     "output_type": "stream",
     "text": [
      "[25] Best: Model 2 | Reason: It comprehensively covers emergency services, urgent care, and network considerations, aligning closely with the expected answer.\n"
     ]
    },
    {
     "name": "stderr",
     "output_type": "stream",
     "text": [
      " 43%|████▎     | 26/60 [01:07<01:41,  2.97s/it]"
     ]
    },
    {
     "name": "stdout",
     "output_type": "stream",
     "text": [
      "[26] Best: Model 2 | Reason: It comprehensively covers renewal terms, potential changes, and planning for costs.\n"
     ]
    },
    {
     "name": "stderr",
     "output_type": "stream",
     "text": [
      " 45%|████▌     | 27/60 [01:09<01:30,  2.74s/it]"
     ]
    },
    {
     "name": "stdout",
     "output_type": "stream",
     "text": [
      "[27] Best: Model 2 | Reason: It comprehensively lists exclusions and emphasizes the importance of understanding policy details.\n"
     ]
    },
    {
     "name": "stderr",
     "output_type": "stream",
     "text": [
      " 47%|████▋     | 28/60 [01:17<02:21,  4.43s/it]"
     ]
    },
    {
     "name": "stdout",
     "output_type": "stream",
     "text": [
      "[28] Best: Model 3 | Reason: It emphasizes contacting the insurance company first and suggests state department involvement for unresolved issues.\n"
     ]
    },
    {
     "name": "stderr",
     "output_type": "stream",
     "text": [
      " 48%|████▊     | 29/60 [01:19<01:55,  3.72s/it]"
     ]
    },
    {
     "name": "stdout",
     "output_type": "stream",
     "text": [
      "[29] Best: Model 2 | Reason: It comprehensively lists covered services and emphasizes the importance of reading policy details.\n"
     ]
    },
    {
     "name": "stderr",
     "output_type": "stream",
     "text": [
      " 50%|█████     | 30/60 [01:21<01:37,  3.26s/it]"
     ]
    },
    {
     "name": "stdout",
     "output_type": "stream",
     "text": [
      "[30] Best: Model 3 | Reason: It accurately describes the premium and factors affecting the cost of health insurance.\n"
     ]
    },
    {
     "name": "stderr",
     "output_type": "stream",
     "text": [
      " 52%|█████▏    | 31/60 [01:24<01:24,  2.93s/it]"
     ]
    },
    {
     "name": "stdout",
     "output_type": "stream",
     "text": [
      "[31] Best: Model 4 | Reason: It accurately reflects the importance of exclusions and waiting periods in health insurance policies.\n"
     ]
    },
    {
     "name": "stderr",
     "output_type": "stream",
     "text": [
      " 53%|█████▎    | 32/60 [01:27<01:25,  3.07s/it]"
     ]
    },
    {
     "name": "stdout",
     "output_type": "stream",
     "text": [
      "[32] Best: Model 2 | Reason: It accurately highlights age and health history as key factors in premium determination.\n"
     ]
    },
    {
     "name": "stderr",
     "output_type": "stream",
     "text": [
      " 55%|█████▌    | 33/60 [01:29<01:16,  2.83s/it]"
     ]
    },
    {
     "name": "stdout",
     "output_type": "stream",
     "text": [
      "[33] Best: Model 2 | Reason: It comprehensively covers out-of-pocket costs, including deductibles and coinsurance, aligning closely with the expected answer.\n"
     ]
    },
    {
     "name": "stderr",
     "output_type": "stream",
     "text": [
      " 57%|█████▋    | 34/60 [01:32<01:12,  2.79s/it]"
     ]
    },
    {
     "name": "stdout",
     "output_type": "stream",
     "text": [
      "[34] Best: Model 2 | Reason: It covers understanding the claim process and necessary documentation, aligning closely with the expected answer.\n"
     ]
    },
    {
     "name": "stderr",
     "output_type": "stream",
     "text": [
      " 58%|█████▊    | 35/60 [01:35<01:10,  2.81s/it]"
     ]
    },
    {
     "name": "stdout",
     "output_type": "stream",
     "text": [
      "[35] Best: Model 2 | Reason: It captures the core definition, coverage details, and financial protection intent of health insurance.\n"
     ]
    },
    {
     "name": "stderr",
     "output_type": "stream",
     "text": [
      " 60%|██████    | 36/60 [01:37<01:04,  2.68s/it]"
     ]
    },
    {
     "name": "stdout",
     "output_type": "stream",
     "text": [
      "[36] Best: Model 1 | Reason: It captures the essence of various health insurance types, aligning with the expected answer's intent.\n"
     ]
    },
    {
     "name": "stderr",
     "output_type": "stream",
     "text": [
      " 62%|██████▏   | 37/60 [01:40<01:00,  2.63s/it]"
     ]
    },
    {
     "name": "stdout",
     "output_type": "stream",
     "text": [
      "[37] Best: Model 2 | Reason: It captures key benefits of health insurance, including financial protection and access to care, aligning closely with the expected answer.\n"
     ]
    },
    {
     "name": "stderr",
     "output_type": "stream",
     "text": [
      " 63%|██████▎   | 38/60 [01:42<00:56,  2.55s/it]"
     ]
    },
    {
     "name": "stdout",
     "output_type": "stream",
     "text": [
      "[38] Best: Model 2 | Reason: It comprehensively covers premiums, deductibles, coverage, and limitations, aligning closely with the expected answer.\n"
     ]
    },
    {
     "name": "stderr",
     "output_type": "stream",
     "text": [
      " 65%|██████▌   | 39/60 [01:45<00:53,  2.55s/it]"
     ]
    },
    {
     "name": "stdout",
     "output_type": "stream",
     "text": [
      "[39] Best: Model 2 | Reason: It captures the financial protection aspect and emphasizes the importance of health insurance for unexpected health issues.\n"
     ]
    },
    {
     "name": "stderr",
     "output_type": "stream",
     "text": [
      " 67%|██████▋   | 40/60 [01:47<00:50,  2.53s/it]"
     ]
    },
    {
     "name": "stdout",
     "output_type": "stream",
     "text": [
      "[40] Best: Model 3 | Reason: It captures the core aspects of financial protection, treatment costs, and cashless treatment access.\n"
     ]
    },
    {
     "name": "stderr",
     "output_type": "stream",
     "text": [
      " 68%|██████▊   | 41/60 [01:49<00:45,  2.41s/it]"
     ]
    },
    {
     "name": "stdout",
     "output_type": "stream",
     "text": [
      "[41] Best: Model 1 | Reason: It lists types of health insurance, aligning closely with the expected answer's intent and content.\n"
     ]
    },
    {
     "name": "stderr",
     "output_type": "stream",
     "text": [
      " 70%|███████   | 42/60 [01:51<00:42,  2.35s/it]"
     ]
    },
    {
     "name": "stdout",
     "output_type": "stream",
     "text": [
      "[42] Best: Model 3 | Reason: It closely follows the expected steps for applying, including form filling and document submission.\n"
     ]
    },
    {
     "name": "stderr",
     "output_type": "stream",
     "text": [
      " 72%|███████▏  | 43/60 [01:54<00:41,  2.44s/it]"
     ]
    },
    {
     "name": "stdout",
     "output_type": "stream",
     "text": [
      "[43] Best: Model 3 | Reason: It closely matches the expected answer by detailing hospitalization and pre/post-expenses coverage.\n"
     ]
    },
    {
     "name": "stderr",
     "output_type": "stream",
     "text": [
      " 73%|███████▎  | 44/60 [01:56<00:38,  2.40s/it]"
     ]
    },
    {
     "name": "stdout",
     "output_type": "stream",
     "text": [
      "[44] Best: Model 4 | Reason: It directly lists the covered expenses, closely matching the expected answer's content.\n"
     ]
    },
    {
     "name": "stderr",
     "output_type": "stream",
     "text": [
      " 75%|███████▌  | 45/60 [01:59<00:35,  2.39s/it]"
     ]
    },
    {
     "name": "stdout",
     "output_type": "stream",
     "text": [
      "[45] Best: Model 4 | Reason: It closely matches the expected answer's core information and intent regarding adding family members.\n"
     ]
    },
    {
     "name": "stderr",
     "output_type": "stream",
     "text": [
      " 77%|███████▋  | 46/60 [02:01<00:32,  2.32s/it]"
     ]
    },
    {
     "name": "stdout",
     "output_type": "stream",
     "text": [
      "[46] Best: Model 3 | Reason: It emphasizes contacting the insurer and provides guidance on necessary documentation, aligning closely with the expected answer.\n"
     ]
    },
    {
     "name": "stderr",
     "output_type": "stream",
     "text": [
      " 78%|███████▊  | 47/60 [02:04<00:31,  2.40s/it]"
     ]
    },
    {
     "name": "stdout",
     "output_type": "stream",
     "text": [
      "[47] Best: Model 3 | Reason: It accurately describes coverage for medical treatments and the claims process, aligning closely with the expected answer.\n"
     ]
    },
    {
     "name": "stderr",
     "output_type": "stream",
     "text": [
      " 80%|████████  | 48/60 [02:06<00:28,  2.40s/it]"
     ]
    },
    {
     "name": "stdout",
     "output_type": "stream",
     "text": [
      "[48] Best: Model 2 | Reason: It closely aligns with the expected coverage details of private health insurance plans.\n"
     ]
    },
    {
     "name": "stderr",
     "output_type": "stream",
     "text": [
      " 82%|████████▏ | 49/60 [02:08<00:25,  2.35s/it]"
     ]
    },
    {
     "name": "stdout",
     "output_type": "stream",
     "text": [
      "[49] Best: Model 2 | Reason: It emphasizes financial protection and preventive care, aligning closely with the expected answer's intent.\n"
     ]
    },
    {
     "name": "stderr",
     "output_type": "stream",
     "text": [
      " 83%|████████▎ | 50/60 [02:11<00:24,  2.40s/it]"
     ]
    },
    {
     "name": "stdout",
     "output_type": "stream",
     "text": [
      "[50] Best: Model 3 | Reason: It discusses unexpected costs due to illness and emphasizes understanding coverage details.\n"
     ]
    },
    {
     "name": "stderr",
     "output_type": "stream",
     "text": [
      " 85%|████████▌ | 51/60 [02:13<00:21,  2.35s/it]"
     ]
    },
    {
     "name": "stdout",
     "output_type": "stream",
     "text": [
      "[51] Best: Model 1 | Reason: It emphasizes the importance of reviewing coverage, aligning with checking doctor and clinic networks.\n"
     ]
    },
    {
     "name": "stderr",
     "output_type": "stream",
     "text": [
      " 87%|████████▋ | 52/60 [02:15<00:18,  2.31s/it]"
     ]
    },
    {
     "name": "stdout",
     "output_type": "stream",
     "text": [
      "[52] Best: Model 4 | Reason: It accurately defines pre-existing conditions and includes examples, aligning closely with the expected answer.\n"
     ]
    },
    {
     "name": "stderr",
     "output_type": "stream",
     "text": [
      " 88%|████████▊ | 53/60 [02:18<00:17,  2.43s/it]"
     ]
    },
    {
     "name": "stdout",
     "output_type": "stream",
     "text": [
      "[53] Best: Model 2 | Reason: It accurately addresses documentation, investigation, and processing time, aligning closely with the expected answer's intent.\n"
     ]
    },
    {
     "name": "stderr",
     "output_type": "stream",
     "text": [
      " 90%|█████████ | 54/60 [02:20<00:14,  2.35s/it]"
     ]
    },
    {
     "name": "stdout",
     "output_type": "stream",
     "text": [
      "[54] Best: Model 3 | Reason: It accurately describes the return of premium rider and its implications for policyholders.\n"
     ]
    },
    {
     "name": "stderr",
     "output_type": "stream",
     "text": [
      " 92%|█████████▏| 55/60 [02:22<00:11,  2.31s/it]"
     ]
    },
    {
     "name": "stdout",
     "output_type": "stream",
     "text": [
      "[55] Best: Model 1 | Reason: It acknowledges Metlife's lack of a specific timeframe and emphasizes claim processing variability.\n"
     ]
    },
    {
     "name": "stderr",
     "output_type": "stream",
     "text": [
      " 93%|█████████▎| 56/60 [02:25<00:09,  2.32s/it]"
     ]
    },
    {
     "name": "stdout",
     "output_type": "stream",
     "text": [
      "[56] Best: Model 3 | Reason: It accurately reflects the expected timeline and emphasizes the importance of correct documentation.\n"
     ]
    },
    {
     "name": "stderr",
     "output_type": "stream",
     "text": [
      " 95%|█████████▌| 57/60 [02:27<00:07,  2.42s/it]"
     ]
    },
    {
     "name": "stdout",
     "output_type": "stream",
     "text": [
      "[57] Best: Model 3 | Reason: It accurately captures the claim process and required documents, closely aligning with the expected answer.\n"
     ]
    },
    {
     "name": "stderr",
     "output_type": "stream",
     "text": [
      " 97%|█████████▋| 58/60 [02:30<00:04,  2.41s/it]"
     ]
    },
    {
     "name": "stdout",
     "output_type": "stream",
     "text": [
      "[58] Best: Model 2 | Reason: It accurately captures the tax implications for individuals and businesses regarding disability premiums.\n"
     ]
    },
    {
     "name": "stderr",
     "output_type": "stream",
     "text": [
      " 98%|█████████▊| 59/60 [02:32<00:02,  2.32s/it]"
     ]
    },
    {
     "name": "stdout",
     "output_type": "stream",
     "text": [
      "[59] Best: Model 3 | Reason: It accurately addresses claim denial reasons, including suicide and misrepresentation, aligning closely with the expected answer.\n"
     ]
    },
    {
     "name": "stderr",
     "output_type": "stream",
     "text": [
      "100%|██████████| 60/60 [02:34<00:00,  2.58s/it]"
     ]
    },
    {
     "name": "stdout",
     "output_type": "stream",
     "text": [
      "\n",
      "Evaluation complete. Results saved to: model_best_choices_60_with_reason_4models.csv\n"
     ]
    },
    {
     "name": "stderr",
     "output_type": "stream",
     "text": [
      "\n"
     ]
    }
   ],
   "execution_count": 2
  },
  {
   "metadata": {
    "ExecuteTime": {
     "end_time": "2025-05-30T06:39:32.424456Z",
     "start_time": "2025-05-30T06:36:24.664634Z"
    }
   },
   "cell_type": "code",
   "source": [
    "import pandas as pd\n",
    "import json\n",
    "import time\n",
    "from tqdm import tqdm\n",
    "from openai import OpenAI\n",
    "\n",
    "# Initialize OpenAI client\n",
    "client = OpenAI(api_key=\"...................\")\n",
    "\n",
    "# Load your dataset\n",
    "df = pd.read_csv(\"C:/Users/LENOVO/Desktop/Sample.csv\")\n",
    "\n",
    "# Clean column names\n",
    "df.columns = df.columns.str.strip()\n",
    "df = df.rename(columns={\n",
    "    'Question': 'question',\n",
    "    'Expected Answer': 'expected_answer',\n",
    "    'Initial Answer from Base Model (Mistral 7B)': 'model_1',\n",
    "    'Initial Answer from LLM (gpt-4o-mini)': 'model_2',\n",
    "    'Finetuned Mistral Model 1 (100 Tokens)': 'model_3',\n",
    "    'Finetuned Mistral Model 2 (100 Tokens)': 'model_4',\n",
    "})\n",
    "\n",
    "\n",
    "df = df.head(60)\n",
    "\n",
    "# Clean text\n",
    "def sanitize(text):\n",
    "    return str(text).replace(\"\\n\", \" \").replace(\"\\\"\", \"'\").strip()\n",
    "\n",
    "# Core Evaluation Function\n",
    "def evaluate_with_llm_as_judge(question, expected, m1, m2, m3, m4):\n",
    "    system_prompt = (\n",
    "        \"You are a health insurance expert evaluating the semantic similarity between four model answers \"\n",
    "        \"and an expected answer. Select the one that best captures the core meaning and facts. \"\n",
    "        \"Ignore wording differences. Choose **only one** best model.\\n\\n\"\n",
    "        \"Output JSON format only:\\n\"\n",
    "        '{\\n  \"best_model\": \"Model X\",\\n  \"reason\": \"10-20 word explanation why this model is best.\" \\n}'\n",
    "    )\n",
    "\n",
    "    user_prompt = f\"\"\"\n",
    "Question: {question}\n",
    "\n",
    "Expected Answer: {expected}\n",
    "\n",
    "Model 1: {m1}\n",
    "Model 2: {m2}\n",
    "Model 3: {m3}\n",
    "Model 4: {m4}\n",
    "\n",
    "Which model is semantically closest to the expected answer?\n",
    "\"\"\"\n",
    "\n",
    "    try:\n",
    "        response = client.chat.completions.create(\n",
    "            model=\"gpt-4o-mini\", \n",
    "            messages=[\n",
    "                {\"role\": \"system\", \"content\": system_prompt},\n",
    "                {\"role\": \"user\", \"content\": user_prompt}\n",
    "            ],\n",
    "            temperature=0.0,\n",
    "            max_tokens=150\n",
    "        )\n",
    "\n",
    "        content = response.choices[0].message.content.strip()\n",
    "        try:\n",
    "            parsed = json.loads(content)\n",
    "            return parsed.get(\"best_model\", \"Unknown\"), parsed.get(\"reason\", \"No reason provided.\")\n",
    "        except json.JSONDecodeError:\n",
    "            return f\"Parse Error: {content}\", \"Invalid JSON from model\"\n",
    "\n",
    "    except Exception as e:\n",
    "        return f\"ERROR: {str(e)}\", \"API error\"\n",
    "\n",
    "# Evaluate each row\n",
    "best_models = []\n",
    "reasons = []\n",
    "backup_path = \"llm_eval_backup.csv\"\n",
    "\n",
    "for idx, row in tqdm(df.iterrows(), total=len(df)):\n",
    "    best_model, reason = evaluate_with_llm_as_judge(\n",
    "        sanitize(row['question']),\n",
    "        sanitize(row['expected_answer']),\n",
    "        sanitize(row['model_1']),\n",
    "        sanitize(row['model_2']),\n",
    "        sanitize(row['model_3']),\n",
    "        sanitize(row['model_4']),\n",
    "    )\n",
    "\n",
    "    best_models.append(best_model)\n",
    "    reasons.append(reason)\n",
    "    print(f\"[{idx}] Best: {best_model} | Reason: {reason}\")\n",
    "\n",
    "    time.sleep(1.5)  # avoid rate limiting\n",
    "\n",
    "    # Periodic backup every 10 rows\n",
    "    if idx % 10 == 0:\n",
    "        df['Best Model'] = best_models + [\"\"] * (len(df) - len(best_models))\n",
    "        df['Reason'] = reasons + [\"\"] * (len(df) - len(reasons))\n",
    "        df.to_csv(backup_path, index=False)\n",
    "\n",
    "# Final save\n",
    "df['Best Model'] = best_models\n",
    "df['Reason'] = reasons\n",
    "output_path = \"llm_eval_results_with_model_4.csv\"\n",
    "df.to_csv(output_path, index=False)\n",
    "\n",
    "print(f\"\\n Evaluation complete! Results saved to: {output_path}\")\n"
   ],
   "id": "f7358038567d7744",
   "outputs": [
    {
     "name": "stderr",
     "output_type": "stream",
     "text": [
      "  0%|          | 0/60 [00:00<?, ?it/s]"
     ]
    },
    {
     "name": "stdout",
     "output_type": "stream",
     "text": [
      "[0] Best: Model 2 | Reason: It comprehensively covers financial protection, access to care, preventive services, and peace of mind, aligning closely with the expected answer.\n"
     ]
    },
    {
     "name": "stderr",
     "output_type": "stream",
     "text": [
      "  2%|▏         | 1/60 [00:04<04:10,  4.25s/it]"
     ]
    },
    {
     "name": "stdout",
     "output_type": "stream",
     "text": [
      "[1] Best: Model 2 | Reason: It comprehensively covers obtaining health insurance through employers, government programs, and individual plans, aligning closely with the expected answer.\n"
     ]
    },
    {
     "name": "stderr",
     "output_type": "stream",
     "text": [
      "  3%|▎         | 2/60 [00:06<03:14,  3.36s/it]"
     ]
    },
    {
     "name": "stdout",
     "output_type": "stream",
     "text": [
      "[2] Best: Model 4 | Reason: It closely matches the expected answer's definition and details about coverage and claims.\n"
     ]
    },
    {
     "name": "stderr",
     "output_type": "stream",
     "text": [
      "  5%|▌         | 3/60 [00:09<02:53,  3.04s/it]"
     ]
    },
    {
     "name": "stdout",
     "output_type": "stream",
     "text": [
      "[3] Best: Model 3 | Reason: It emphasizes financial protection from serious illness and the importance of avoiding crippling debt.\n"
     ]
    },
    {
     "name": "stderr",
     "output_type": "stream",
     "text": [
      "  7%|▋         | 4/60 [00:12<02:47,  2.99s/it]"
     ]
    },
    {
     "name": "stdout",
     "output_type": "stream",
     "text": [
      "[4] Best: Model 4 | Reason: It accurately describes cashless facility and reimbursement processes for emergency expenses.\n"
     ]
    },
    {
     "name": "stderr",
     "output_type": "stream",
     "text": [
      "  8%|▊         | 5/60 [00:16<03:12,  3.50s/it]"
     ]
    },
    {
     "name": "stdout",
     "output_type": "stream",
     "text": [
      "[5] Best: Model 2 | Reason: It accurately addresses age eligibility for both adults and children, aligning closely with the expected answer.\n"
     ]
    },
    {
     "name": "stderr",
     "output_type": "stream",
     "text": [
      " 10%|█         | 6/60 [00:21<03:32,  3.93s/it]"
     ]
    },
    {
     "name": "stdout",
     "output_type": "stream",
     "text": [
      "[6] Best: Model 2 | Reason: It accurately reflects the coverage options for various family members and emphasizes checking policy specifics.\n"
     ]
    },
    {
     "name": "stderr",
     "output_type": "stream",
     "text": [
      " 12%|█▏        | 7/60 [00:24<03:10,  3.59s/it]"
     ]
    },
    {
     "name": "stdout",
     "output_type": "stream",
     "text": [
      "[7] Best: Model 2 | Reason: It captures the essence of buying multiple plans for specific needs and coverage enhancement.\n"
     ]
    },
    {
     "name": "stderr",
     "output_type": "stream",
     "text": [
      " 13%|█▎        | 8/60 [00:27<02:49,  3.26s/it]"
     ]
    },
    {
     "name": "stdout",
     "output_type": "stream",
     "text": [
      "[8] Best: Model 4 | Reason: Model 4 lists all the types of health insurance plans mentioned in the expected answer.\n"
     ]
    },
    {
     "name": "stderr",
     "output_type": "stream",
     "text": [
      " 15%|█▌        | 9/60 [00:30<02:42,  3.20s/it]"
     ]
    },
    {
     "name": "stdout",
     "output_type": "stream",
     "text": [
      "[9] Best: Model 2 | Reason: It accurately reflects the installment options and emphasizes checking with the insurer for specifics.\n"
     ]
    },
    {
     "name": "stderr",
     "output_type": "stream",
     "text": [
      " 17%|█▋        | 10/60 [00:33<02:39,  3.19s/it]"
     ]
    },
    {
     "name": "stdout",
     "output_type": "stream",
     "text": [
      "[10] Best: Model 3 | Reason: It closely aligns with the expected answer's focus on key coverage benefits and variability across plans.\n"
     ]
    },
    {
     "name": "stderr",
     "output_type": "stream",
     "text": [
      " 18%|█▊        | 11/60 [00:36<02:30,  3.08s/it]"
     ]
    },
    {
     "name": "stdout",
     "output_type": "stream",
     "text": [
      "[11] Best: Model 4 | Reason: Model 4 closely matches the expected answer's details on coverage, lump-sum payment, and additional benefits.\n"
     ]
    },
    {
     "name": "stderr",
     "output_type": "stream",
     "text": [
      " 20%|██        | 12/60 [00:39<02:28,  3.08s/it]"
     ]
    },
    {
     "name": "stdout",
     "output_type": "stream",
     "text": [
      "[12] Best: Model 1 | Reason: It directly addresses increasing sum insured at policy renewal and includes necessary steps.\n"
     ]
    },
    {
     "name": "stderr",
     "output_type": "stream",
     "text": [
      " 22%|██▏       | 13/60 [00:42<02:24,  3.07s/it]"
     ]
    },
    {
     "name": "stdout",
     "output_type": "stream",
     "text": [
      "[13] Best: Model 3 | Reason: Model 3 accurately addresses pre-existing conditions, waiting periods, and coverage details.\n"
     ]
    },
    {
     "name": "stderr",
     "output_type": "stream",
     "text": [
      " 23%|██▎       | 14/60 [00:45<02:15,  2.94s/it]"
     ]
    },
    {
     "name": "stdout",
     "output_type": "stream",
     "text": [
      "[14] Best: Model 4 | Reason: Model 4 closely mirrors the expected answer's structure and key benefits of early health insurance purchase.\n"
     ]
    },
    {
     "name": "stderr",
     "output_type": "stream",
     "text": [
      " 25%|██▌       | 15/60 [00:51<02:58,  3.96s/it]"
     ]
    },
    {
     "name": "stdout",
     "output_type": "stream",
     "text": [
      "[15] Best: Model 4 | Reason: Model 4 covers all key factors mentioned in the expected answer, including medical needs and plan features.\n"
     ]
    },
    {
     "name": "stderr",
     "output_type": "stream",
     "text": [
      " 27%|██▋       | 16/60 [00:55<02:52,  3.91s/it]"
     ]
    },
    {
     "name": "stdout",
     "output_type": "stream",
     "text": [
      "[16] Best: Model 2 | Reason: It comprehensively covers HSAs, their tax advantages, eligibility, and specific qualified expenses.\n"
     ]
    },
    {
     "name": "stderr",
     "output_type": "stream",
     "text": [
      " 28%|██▊       | 17/60 [00:57<02:33,  3.57s/it]"
     ]
    },
    {
     "name": "stdout",
     "output_type": "stream",
     "text": [
      "[17] Best: Model 2 | Reason: It comprehensively outlines the steps to appeal a denial, aligning closely with the expected answer.\n"
     ]
    },
    {
     "name": "stderr",
     "output_type": "stream",
     "text": [
      " 30%|███       | 18/60 [01:01<02:30,  3.58s/it]"
     ]
    },
    {
     "name": "stdout",
     "output_type": "stream",
     "text": [
      "[18] Best: Model 3 | Reason: It closely mirrors the expected answer's focus on coverage scope and assessing healthcare needs.\n"
     ]
    },
    {
     "name": "stderr",
     "output_type": "stream",
     "text": [
      " 32%|███▏      | 19/60 [01:04<02:25,  3.54s/it]"
     ]
    },
    {
     "name": "stdout",
     "output_type": "stream",
     "text": [
      "[19] Best: Model 2 | Reason: It thoroughly explains premiums, copayments, and out-of-pocket costs, aligning closely with the expected answer's details.\n"
     ]
    },
    {
     "name": "stderr",
     "output_type": "stream",
     "text": [
      " 33%|███▎      | 20/60 [01:08<02:26,  3.66s/it]"
     ]
    },
    {
     "name": "stdout",
     "output_type": "stream",
     "text": [
      "[20] Best: Model 2 | Reason: It thoroughly explains network restrictions and emphasizes checking policy details, aligning closely with the expected answer.\n"
     ]
    },
    {
     "name": "stderr",
     "output_type": "stream",
     "text": [
      " 35%|███▌      | 21/60 [01:11<02:11,  3.36s/it]"
     ]
    },
    {
     "name": "stdout",
     "output_type": "stream",
     "text": [
      "[21] Best: Model 2 | Reason: It accurately defines cover limit and explains its importance in assessing financial risks.\n"
     ]
    },
    {
     "name": "stderr",
     "output_type": "stream",
     "text": [
      " 37%|███▋      | 22/60 [01:14<02:02,  3.21s/it]"
     ]
    },
    {
     "name": "stdout",
     "output_type": "stream",
     "text": [
      "[22] Best: Model 3 | Reason: It accurately reflects the importance of understanding coverage limitations for pre-existing conditions.\n"
     ]
    },
    {
     "name": "stderr",
     "output_type": "stream",
     "text": [
      " 38%|███▊      | 23/60 [01:17<01:57,  3.18s/it]"
     ]
    },
    {
     "name": "stdout",
     "output_type": "stream",
     "text": [
      "[23] Best: Model 2 | Reason: It comprehensively outlines the claim process, documentation, and follow-up, aligning closely with the expected answer.\n"
     ]
    },
    {
     "name": "stderr",
     "output_type": "stream",
     "text": [
      " 40%|████      | 24/60 [01:20<01:53,  3.15s/it]"
     ]
    },
    {
     "name": "stdout",
     "output_type": "stream",
     "text": [
      "[24] Best: Model 2 | Reason: It comprehensively lists various additional benefits and aligns closely with the expected answer's focus on enhancing health coverage.\n"
     ]
    },
    {
     "name": "stderr",
     "output_type": "stream",
     "text": [
      " 42%|████▏     | 25/60 [01:23<01:50,  3.16s/it]"
     ]
    },
    {
     "name": "stdout",
     "output_type": "stream",
     "text": [
      "[25] Best: Model 2 | Reason: It comprehensively covers emergency and urgent care, including network considerations and policy specifics.\n"
     ]
    },
    {
     "name": "stderr",
     "output_type": "stream",
     "text": [
      " 43%|████▎     | 26/60 [01:26<01:47,  3.16s/it]"
     ]
    },
    {
     "name": "stdout",
     "output_type": "stream",
     "text": [
      "[26] Best: Model 2 | Reason: It comprehensively covers renewal terms, potential changes, and planning for costs, aligning closely with the expected answer.\n"
     ]
    },
    {
     "name": "stderr",
     "output_type": "stream",
     "text": [
      " 45%|████▌     | 27/60 [01:30<01:43,  3.14s/it]"
     ]
    },
    {
     "name": "stdout",
     "output_type": "stream",
     "text": [
      "[27] Best: Model 2 | Reason: Model 2 provides detailed examples of exclusions and emphasizes the importance of understanding policy documents, aligning closely with the expected answer's core message.\n"
     ]
    },
    {
     "name": "stderr",
     "output_type": "stream",
     "text": [
      " 47%|████▋     | 28/60 [01:32<01:36,  3.00s/it]"
     ]
    },
    {
     "name": "stdout",
     "output_type": "stream",
     "text": [
      "[28] Best: Model 2 | Reason: It outlines multiple complaint channels, including direct contact with the insurer, aligning closely with the expected answer's core message.\n"
     ]
    },
    {
     "name": "stderr",
     "output_type": "stream",
     "text": [
      " 48%|████▊     | 29/60 [01:35<01:34,  3.06s/it]"
     ]
    },
    {
     "name": "stdout",
     "output_type": "stream",
     "text": [
      "[29] Best: Model 2 | Reason: It comprehensively lists various coverage areas and emphasizes the importance of reviewing policy details.\n"
     ]
    },
    {
     "name": "stderr",
     "output_type": "stream",
     "text": [
      " 50%|█████     | 30/60 [01:38<01:28,  2.94s/it]"
     ]
    },
    {
     "name": "stdout",
     "output_type": "stream",
     "text": [
      "[30] Best: Model 3 | Reason: It accurately explains the cost factors and defines the premium, aligning closely with the expected answer.\n"
     ]
    },
    {
     "name": "stderr",
     "output_type": "stream",
     "text": [
      " 52%|█████▏    | 31/60 [01:41<01:23,  2.87s/it]"
     ]
    },
    {
     "name": "stdout",
     "output_type": "stream",
     "text": [
      "[31] Best: Model 4 | Reason: Model 4 closely aligns with the expected answer by discussing exclusions and the importance of understanding them.\n"
     ]
    },
    {
     "name": "stderr",
     "output_type": "stream",
     "text": [
      " 53%|█████▎    | 32/60 [01:44<01:21,  2.89s/it]"
     ]
    },
    {
     "name": "stdout",
     "output_type": "stream",
     "text": [
      "[32] Best: Model 2 | Reason: It covers age and health status as key factors, aligning closely with the expected answer.\n"
     ]
    },
    {
     "name": "stderr",
     "output_type": "stream",
     "text": [
      " 55%|█████▌    | 33/60 [01:46<01:15,  2.80s/it]"
     ]
    },
    {
     "name": "stdout",
     "output_type": "stream",
     "text": [
      "[33] Best: Model 2 | Reason: It comprehensively covers out-of-pocket costs, including deductibles and coinsurance, aligning closely with the expected answer.\n"
     ]
    },
    {
     "name": "stderr",
     "output_type": "stream",
     "text": [
      " 57%|█████▋    | 34/60 [01:50<01:21,  3.14s/it]"
     ]
    },
    {
     "name": "stdout",
     "output_type": "stream",
     "text": [
      "[34] Best: Model 2 | Reason: It comprehensively outlines the claim process and emphasizes understanding policy details, aligning closely with the expected answer's focus.\n"
     ]
    },
    {
     "name": "stderr",
     "output_type": "stream",
     "text": [
      " 58%|█████▊    | 35/60 [01:53<01:18,  3.12s/it]"
     ]
    },
    {
     "name": "stdout",
     "output_type": "stream",
     "text": [
      "[35] Best: Model 2 | Reason: Model 2 captures the definition, coverage details, and financial protection aspects of health insurance effectively.\n"
     ]
    },
    {
     "name": "stderr",
     "output_type": "stream",
     "text": [
      " 60%|██████    | 36/60 [01:57<01:15,  3.15s/it]"
     ]
    },
    {
     "name": "stdout",
     "output_type": "stream",
     "text": [
      "[36] Best: Model 1 | Reason: Model 1 captures the essence of various health insurance types, aligning with the expected answer's focus on coverage specifics.\n"
     ]
    },
    {
     "name": "stderr",
     "output_type": "stream",
     "text": [
      " 62%|██████▏   | 37/60 [01:59<01:10,  3.06s/it]"
     ]
    },
    {
     "name": "stdout",
     "output_type": "stream",
     "text": [
      "[37] Best: Model 2 | Reason: It covers multiple key benefits of health insurance, aligning closely with the expected answer's details.\n"
     ]
    },
    {
     "name": "stderr",
     "output_type": "stream",
     "text": [
      " 63%|██████▎   | 38/60 [02:02<01:06,  3.01s/it]"
     ]
    },
    {
     "name": "stdout",
     "output_type": "stream",
     "text": [
      "[38] Best: Model 2 | Reason: It comprehensively explains premiums, deductibles, coverage, and limitations, aligning closely with the expected answer.\n"
     ]
    },
    {
     "name": "stderr",
     "output_type": "stream",
     "text": [
      " 65%|██████▌   | 39/60 [02:06<01:05,  3.10s/it]"
     ]
    },
    {
     "name": "stdout",
     "output_type": "stream",
     "text": [
      "[39] Best: Model 2 | Reason: It comprehensively covers financial protection, access to healthcare, and the importance of timely treatment.\n"
     ]
    },
    {
     "name": "stderr",
     "output_type": "stream",
     "text": [
      " 67%|██████▋   | 40/60 [02:08<00:59,  2.98s/it]"
     ]
    },
    {
     "name": "stdout",
     "output_type": "stream",
     "text": [
      "[40] Best: Model 2 | Reason: It covers financial protection, access to healthcare, and preventive services, aligning closely with the expected answer's core points.\n"
     ]
    },
    {
     "name": "stderr",
     "output_type": "stream",
     "text": [
      " 68%|██████▊   | 41/60 [02:12<00:57,  3.05s/it]"
     ]
    },
    {
     "name": "stdout",
     "output_type": "stream",
     "text": [
      "[41] Best: Model 1 | Reason: It lists various types of health insurance, including critical illness, aligning closely with the expected answer.\n"
     ]
    },
    {
     "name": "stderr",
     "output_type": "stream",
     "text": [
      " 70%|███████   | 42/60 [02:14<00:53,  2.99s/it]"
     ]
    },
    {
     "name": "stdout",
     "output_type": "stream",
     "text": [
      "[42] Best: Model 3 | Reason: Model 3 closely follows the expected answer's steps for applying, including form filling and document submission.\n"
     ]
    },
    {
     "name": "stderr",
     "output_type": "stream",
     "text": [
      " 72%|███████▏  | 43/60 [02:17<00:50,  2.98s/it]"
     ]
    },
    {
     "name": "stdout",
     "output_type": "stream",
     "text": [
      "[43] Best: Model 3 | Reason: It closely matches the expected answer by detailing coverage for hospitalisation and pre/post-hospitalisation expenses.\n"
     ]
    },
    {
     "name": "stderr",
     "output_type": "stream",
     "text": [
      " 73%|███████▎  | 44/60 [02:20<00:46,  2.88s/it]"
     ]
    },
    {
     "name": "stdout",
     "output_type": "stream",
     "text": [
      "[44] Best: Model 4 | Reason: It closely matches the expected answer by listing specific covered items and emphasizing reimbursement.\n"
     ]
    },
    {
     "name": "stderr",
     "output_type": "stream",
     "text": [
      " 75%|███████▌  | 45/60 [02:23<00:41,  2.78s/it]"
     ]
    },
    {
     "name": "stdout",
     "output_type": "stream",
     "text": [
      "[45] Best: Model 4 | Reason: It closely matches the expected answer's core meaning and includes necessary details about the process.\n"
     ]
    },
    {
     "name": "stderr",
     "output_type": "stream",
     "text": [
      " 77%|███████▋  | 46/60 [02:25<00:38,  2.76s/it]"
     ]
    },
    {
     "name": "stdout",
     "output_type": "stream",
     "text": [
      "[46] Best: Model 3 | Reason: It emphasizes contacting the insurer and includes details about necessary documents, aligning closely with the expected answer.\n"
     ]
    },
    {
     "name": "stderr",
     "output_type": "stream",
     "text": [
      " 78%|███████▊  | 47/60 [02:29<00:38,  2.97s/it]"
     ]
    },
    {
     "name": "stdout",
     "output_type": "stream",
     "text": [
      "[47] Best: Model 3 | Reason: It accurately describes the contract nature, payment structure, and coverage specifics similar to the expected answer.\n"
     ]
    },
    {
     "name": "stderr",
     "output_type": "stream",
     "text": [
      " 80%|████████  | 48/60 [02:31<00:34,  2.87s/it]"
     ]
    },
    {
     "name": "stdout",
     "output_type": "stream",
     "text": [
      "[48] Best: Model 2 | Reason: It lists specific coverage areas similar to the expected answer, including hospitalization and outpatient care.\n"
     ]
    },
    {
     "name": "stderr",
     "output_type": "stream",
     "text": [
      " 82%|████████▏ | 49/60 [02:34<00:30,  2.80s/it]"
     ]
    },
    {
     "name": "stdout",
     "output_type": "stream",
     "text": [
      "[49] Best: Model 2 | Reason: It addresses financial protection, preventive care, and unexpected expenses, aligning closely with the expected answer's core message.\n"
     ]
    },
    {
     "name": "stderr",
     "output_type": "stream",
     "text": [
      " 83%|████████▎ | 50/60 [02:38<00:31,  3.13s/it]"
     ]
    },
    {
     "name": "stdout",
     "output_type": "stream",
     "text": [
      "[50] Best: Model 2 | Reason: It addresses affordability factors and balances costs related to illness, aligning closely with the expected answer's core meaning.\n"
     ]
    },
    {
     "name": "stderr",
     "output_type": "stream",
     "text": [
      " 85%|████████▌ | 51/60 [02:41<00:27,  3.08s/it]"
     ]
    },
    {
     "name": "stdout",
     "output_type": "stream",
     "text": [
      "[51] Best: Model 2 | Reason: It provides detailed information on prescription drug coverage, aligning closely with the expected answer's emphasis on reviewing coverage.\n"
     ]
    },
    {
     "name": "stderr",
     "output_type": "stream",
     "text": [
      " 87%|████████▋ | 52/60 [02:44<00:24,  3.02s/it]"
     ]
    },
    {
     "name": "stdout",
     "output_type": "stream",
     "text": [
      "[52] Best: Model 4 | Reason: Model 4 accurately defines pre-existing conditions and includes examples, aligning closely with the expected answer.\n"
     ]
    },
    {
     "name": "stderr",
     "output_type": "stream",
     "text": [
      " 88%|████████▊ | 53/60 [02:46<00:20,  2.94s/it]"
     ]
    },
    {
     "name": "stdout",
     "output_type": "stream",
     "text": [
      "[53] Best: Model 2 | Reason: It addresses documentation, investigation, and varying timelines, closely matching the expected answer's details.\n"
     ]
    },
    {
     "name": "stderr",
     "output_type": "stream",
     "text": [
      " 90%|█████████ | 54/60 [02:49<00:17,  2.92s/it]"
     ]
    },
    {
     "name": "stdout",
     "output_type": "stream",
     "text": [
      "[54] Best: Model 4 | Reason: Model 4 accurately addresses the return of premium rider and its implications, aligning closely with the expected answer.\n"
     ]
    },
    {
     "name": "stderr",
     "output_type": "stream",
     "text": [
      " 92%|█████████▏| 55/60 [02:52<00:14,  2.90s/it]"
     ]
    },
    {
     "name": "stdout",
     "output_type": "stream",
     "text": [
      "[55] Best: Model 3 | Reason: It accurately reflects the variability in processing times and emphasizes the importance of documentation.\n"
     ]
    },
    {
     "name": "stderr",
     "output_type": "stream",
     "text": [
      " 93%|█████████▎| 56/60 [02:56<00:12,  3.10s/it]"
     ]
    },
    {
     "name": "stdout",
     "output_type": "stream",
     "text": [
      "[56] Best: Model 3 | Reason: It accurately reflects the expected time frame and factors affecting life insurance claims.\n"
     ]
    },
    {
     "name": "stderr",
     "output_type": "stream",
     "text": [
      " 95%|█████████▌| 57/60 [02:58<00:08,  2.97s/it]"
     ]
    },
    {
     "name": "stdout",
     "output_type": "stream",
     "text": [
      "[57] Best: Model 3 | Reason: It accurately outlines the claim process, required documents, and emphasizes contacting the insurer for specifics.\n"
     ]
    },
    {
     "name": "stderr",
     "output_type": "stream",
     "text": [
      " 97%|█████████▋| 58/60 [03:01<00:05,  2.96s/it]"
     ]
    },
    {
     "name": "stdout",
     "output_type": "stream",
     "text": [
      "[58] Best: Model 2 | Reason: It accurately explains the tax implications for individuals and businesses, aligning closely with the expected answer.\n"
     ]
    },
    {
     "name": "stderr",
     "output_type": "stream",
     "text": [
      " 98%|█████████▊| 59/60 [03:04<00:02,  2.92s/it]"
     ]
    },
    {
     "name": "stdout",
     "output_type": "stream",
     "text": [
      "[59] Best: Model 3 | Reason: It accurately lists reasons for denial and emphasizes the importance of accurate information, aligning closely with the expected answer.\n"
     ]
    },
    {
     "name": "stderr",
     "output_type": "stream",
     "text": [
      "100%|██████████| 60/60 [03:07<00:00,  3.12s/it]"
     ]
    },
    {
     "name": "stdout",
     "output_type": "stream",
     "text": [
      "\n",
      " Evaluation complete! Results saved to: llm_eval_results_with_model_4.csv\n"
     ]
    },
    {
     "name": "stderr",
     "output_type": "stream",
     "text": [
      "\n"
     ]
    }
   ],
   "execution_count": 4
  },
  {
   "metadata": {
    "ExecuteTime": {
     "end_time": "2025-05-30T06:40:49.452153Z",
     "start_time": "2025-05-30T06:40:49.438861Z"
    }
   },
   "cell_type": "code",
   "source": [
    "# Summary of Best Model Distribution\n",
    "summary = df['Best Model'].value_counts(normalize=True) * 100\n",
    "summary = summary.round(2).to_dict()\n",
    "\n",
    "print(\"\\nFinal Summary of Best Model Selection (%):\")\n",
    "for model, percent in summary.items():\n",
    "    print(f\"{model}: {percent}%\")\n"
   ],
   "id": "6516962bf7cbed11",
   "outputs": [
    {
     "name": "stdout",
     "output_type": "stream",
     "text": [
      "\n",
      "Final Summary of Best Model Selection (%):\n",
      "Model 2: 53.33%\n",
      "Model 3: 23.33%\n",
      "Model 4: 18.33%\n",
      "Model 1: 5.0%\n"
     ]
    }
   ],
   "execution_count": 5
  },
  {
   "metadata": {
    "ExecuteTime": {
     "end_time": "2025-05-30T07:00:52.896320Z",
     "start_time": "2025-05-30T07:00:52.889270Z"
    }
   },
   "cell_type": "code",
   "source": "",
   "id": "82887a1e44f94cd6",
   "outputs": [],
   "execution_count": 6
  },
  {
   "metadata": {},
   "cell_type": "code",
   "outputs": [],
   "execution_count": null,
   "source": "",
   "id": "8c3a8d6156048edb"
  }
 ],
 "metadata": {
  "kernelspec": {
   "display_name": "Python 3",
   "language": "python",
   "name": "python3"
  },
  "language_info": {
   "codemirror_mode": {
    "name": "ipython",
    "version": 2
   },
   "file_extension": ".py",
   "mimetype": "text/x-python",
   "name": "python",
   "nbconvert_exporter": "python",
   "pygments_lexer": "ipython2",
   "version": "2.7.6"
  }
 },
 "nbformat": 4,
 "nbformat_minor": 5
}
